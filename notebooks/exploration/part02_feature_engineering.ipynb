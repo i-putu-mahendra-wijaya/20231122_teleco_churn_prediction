{
 "cells": [
  {
   "cell_type": "markdown",
   "source": [
    "# Part02 Feature Engineering"
   ],
   "metadata": {
    "collapsed": false
   },
   "id": "6927b3ac3eca226e"
  },
  {
   "cell_type": "code",
   "execution_count": 24,
   "outputs": [],
   "source": [
    "# import modules\n",
    "\n",
    "from typing import List\n",
    "\n",
    "import pandas as pd\n",
    "import joblib\n",
    "import yaml\n",
    "import numpy as np\n",
    "from sklearn.decomposition import PCA\n",
    "\n",
    "from src.commons.Utils import impute_scale_and_convert_to_numpy"
   ],
   "metadata": {
    "collapsed": false,
    "ExecuteTime": {
     "end_time": "2023-11-24T10:49:22.053035Z",
     "start_time": "2023-11-24T10:49:22.039717Z"
    }
   },
   "id": "9af5530f49974b7e"
  },
  {
   "cell_type": "code",
   "execution_count": 25,
   "outputs": [],
   "source": [
    "feature_train: pd.DataFrame = pd.read_csv(\n",
    "    filepath_or_buffer=\"../../dataset/01_interim/ohe_train.csv\"\n",
    ")\n",
    "\n",
    "churn_train: pd.DataFrame = pd.read_csv(\n",
    "    filepath_or_buffer=\"../../dataset/01_interim/churn_train.csv\"\n",
    ")"
   ],
   "metadata": {
    "collapsed": false,
    "ExecuteTime": {
     "end_time": "2023-11-24T10:49:22.081241Z",
     "start_time": "2023-11-24T10:49:22.048305Z"
    }
   },
   "id": "fc117f86082d5377"
  },
  {
   "cell_type": "code",
   "execution_count": 26,
   "outputs": [],
   "source": [
    "with open(file=\"../../config.yaml\", mode=\"r\") as file_stream: \n",
    "    stream_loader = yaml.load(\n",
    "        stream=file_stream,\n",
    "        Loader=yaml.SafeLoader\n",
    "    )\n",
    "    mean_total_charges: float = stream_loader[\"MEAN_TOTAL_CHARGES\"]"
   ],
   "metadata": {
    "collapsed": false,
    "ExecuteTime": {
     "end_time": "2023-11-24T10:49:22.088556Z",
     "start_time": "2023-11-24T10:49:22.083400Z"
    }
   },
   "id": "fb2c7e39c5fdeecb"
  },
  {
   "cell_type": "code",
   "execution_count": 27,
   "outputs": [
    {
     "name": "stdout",
     "output_type": "stream",
     "text": [
      "ohe_np shape (5346, 46)\n",
      "------------------\n",
      "churn_np shape (5346, 1)\n"
     ]
    }
   ],
   "source": [
    "feature_np: np.ndarray\n",
    "churn_np: np.ndarray\n",
    "\n",
    "feature_np, churn_np = impute_scale_and_convert_to_numpy(\n",
    "    ohe_df=feature_train,\n",
    "    columns_with_nulls=[\"TotalCharges\"],\n",
    "    impute_val=[mean_total_charges],\n",
    "    scaler_folder=\"../../models/scaler\",\n",
    "    churn_df=churn_train\n",
    ") \n",
    "\n",
    "print(f\"ohe_np shape {feature_np.shape}\")\n",
    "print(\"---\"*6)\n",
    "print(f\"churn_np shape {churn_np.shape}\")"
   ],
   "metadata": {
    "collapsed": false,
    "ExecuteTime": {
     "end_time": "2023-11-24T10:49:22.152347Z",
     "start_time": "2023-11-24T10:49:22.095329Z"
    }
   },
   "id": "a21dfcaed434d5a8"
  },
  {
   "cell_type": "markdown",
   "source": [
    "We have 46 features to predict two categories in `churn` target\n",
    "\n",
    "Furthermore, since we did one-hot encoder when preparing for the train dataset, the resulting matrix is quite sparse\n",
    "\n",
    "Hence, to reduce wasting resources for training sparse matrix, we want first to optimize the features. \n",
    "\n",
    "To do so, we will convert the 46 features into dense representation using Primary Component Analysis (PCA), whereby the 46 dimensions will be tranformed into lower-dimension vector\n",
    "\n",
    "As a rule-of-thumb, the lower-dimension is about fourth-root of the initial dimension\n",
    "\n",
    "Hence, a brief math (46 ^ 1/4) ~ 3"
   ],
   "metadata": {
    "collapsed": false
   },
   "id": "c44625c4fcc6c51d"
  },
  {
   "cell_type": "code",
   "execution_count": 28,
   "outputs": [
    {
     "name": "stdout",
     "output_type": "stream",
     "text": [
      "feature_np shape (5346, 46)\n",
      "------------------\n",
      "feature_pca shape (5346, 3)\n"
     ]
    }
   ],
   "source": [
    "pca: PCA = PCA(n_components=3)\n",
    "\n",
    "feature_pca: np.ndarray = pca.fit_transform(feature_np)\n",
    "\n",
    "joblib.dump(\n",
    "    value=pca, \n",
    "    filename=\"../../models/feature_pca.pkl\"\n",
    ")\n",
    "\n",
    "print(f\"feature_np shape {feature_np.shape}\")\n",
    "print(\"---\"*6)\n",
    "print(f\"feature_pca shape {feature_pca.shape}\")"
   ],
   "metadata": {
    "collapsed": false,
    "ExecuteTime": {
     "end_time": "2023-11-24T10:49:22.191385Z",
     "start_time": "2023-11-24T10:49:22.157377Z"
    }
   },
   "id": "9f37a6c769c61b54"
  }
 ],
 "metadata": {
  "kernelspec": {
   "display_name": "Python 3",
   "language": "python",
   "name": "python3"
  },
  "language_info": {
   "codemirror_mode": {
    "name": "ipython",
    "version": 2
   },
   "file_extension": ".py",
   "mimetype": "text/x-python",
   "name": "python",
   "nbconvert_exporter": "python",
   "pygments_lexer": "ipython2",
   "version": "2.7.6"
  }
 },
 "nbformat": 4,
 "nbformat_minor": 5
}
