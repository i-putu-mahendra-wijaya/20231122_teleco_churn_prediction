{
 "cells": [
  {
   "cell_type": "markdown",
   "source": [
    "# Part01 Data Splitting"
   ],
   "metadata": {
    "collapsed": false
   },
   "id": "d90236787922ac38"
  },
  {
   "cell_type": "code",
   "execution_count": 77,
   "outputs": [],
   "source": [
    "# import modules\n",
    "from typing import List, Dict, NamedTuple, Any\n",
    "\n",
    "import pandas as pd\n",
    "from IPython.display import display\n",
    "import joblib\n",
    "import yaml\n",
    "import numpy as np\n",
    "from sklearn.model_selection import train_test_split\n",
    "from sklearn.preprocessing import MinMaxScaler\n",
    "\n",
    "from src.classes.TrData import TrData\n",
    "from src.commons.Utils import cleanse_transform_data"
   ],
   "metadata": {
    "collapsed": false,
    "ExecuteTime": {
     "end_time": "2023-11-24T10:28:23.740974Z",
     "start_time": "2023-11-24T10:28:23.684337Z"
    }
   },
   "id": "ccd894dd87a9f440"
  },
  {
   "cell_type": "code",
   "execution_count": 78,
   "outputs": [
    {
     "data": {
      "text/plain": "   customerID  gender  SeniorCitizen Partner Dependents  tenure PhoneService  \\\n0  7590-VHVEG  Female              0     Yes         No       1           No   \n1  5575-GNVDE    Male              0      No         No      34          Yes   \n2  3668-QPYBK    Male              0      No         No       2          Yes   \n3  7795-CFOCW    Male              0      No         No      45           No   \n4  9237-HQITU  Female              0      No         No       2          Yes   \n\n      MultipleLines InternetService OnlineSecurity  ... DeviceProtection  \\\n0  No phone service             DSL             No  ...               No   \n1                No             DSL            Yes  ...              Yes   \n2                No             DSL            Yes  ...               No   \n3  No phone service             DSL            Yes  ...              Yes   \n4                No     Fiber optic             No  ...               No   \n\n  TechSupport StreamingTV StreamingMovies        Contract PaperlessBilling  \\\n0          No          No              No  Month-to-month              Yes   \n1          No          No              No        One year               No   \n2          No          No              No  Month-to-month              Yes   \n3         Yes          No              No        One year               No   \n4          No          No              No  Month-to-month              Yes   \n\n               PaymentMethod MonthlyCharges  TotalCharges Churn  \n0           Electronic check          29.85         29.85    No  \n1               Mailed check          56.95        1889.5    No  \n2               Mailed check          53.85        108.15   Yes  \n3  Bank transfer (automatic)          42.30       1840.75    No  \n4           Electronic check          70.70        151.65   Yes  \n\n[5 rows x 21 columns]",
      "text/html": "<div>\n<style scoped>\n    .dataframe tbody tr th:only-of-type {\n        vertical-align: middle;\n    }\n\n    .dataframe tbody tr th {\n        vertical-align: top;\n    }\n\n    .dataframe thead th {\n        text-align: right;\n    }\n</style>\n<table border=\"1\" class=\"dataframe\">\n  <thead>\n    <tr style=\"text-align: right;\">\n      <th></th>\n      <th>customerID</th>\n      <th>gender</th>\n      <th>SeniorCitizen</th>\n      <th>Partner</th>\n      <th>Dependents</th>\n      <th>tenure</th>\n      <th>PhoneService</th>\n      <th>MultipleLines</th>\n      <th>InternetService</th>\n      <th>OnlineSecurity</th>\n      <th>...</th>\n      <th>DeviceProtection</th>\n      <th>TechSupport</th>\n      <th>StreamingTV</th>\n      <th>StreamingMovies</th>\n      <th>Contract</th>\n      <th>PaperlessBilling</th>\n      <th>PaymentMethod</th>\n      <th>MonthlyCharges</th>\n      <th>TotalCharges</th>\n      <th>Churn</th>\n    </tr>\n  </thead>\n  <tbody>\n    <tr>\n      <th>0</th>\n      <td>7590-VHVEG</td>\n      <td>Female</td>\n      <td>0</td>\n      <td>Yes</td>\n      <td>No</td>\n      <td>1</td>\n      <td>No</td>\n      <td>No phone service</td>\n      <td>DSL</td>\n      <td>No</td>\n      <td>...</td>\n      <td>No</td>\n      <td>No</td>\n      <td>No</td>\n      <td>No</td>\n      <td>Month-to-month</td>\n      <td>Yes</td>\n      <td>Electronic check</td>\n      <td>29.85</td>\n      <td>29.85</td>\n      <td>No</td>\n    </tr>\n    <tr>\n      <th>1</th>\n      <td>5575-GNVDE</td>\n      <td>Male</td>\n      <td>0</td>\n      <td>No</td>\n      <td>No</td>\n      <td>34</td>\n      <td>Yes</td>\n      <td>No</td>\n      <td>DSL</td>\n      <td>Yes</td>\n      <td>...</td>\n      <td>Yes</td>\n      <td>No</td>\n      <td>No</td>\n      <td>No</td>\n      <td>One year</td>\n      <td>No</td>\n      <td>Mailed check</td>\n      <td>56.95</td>\n      <td>1889.5</td>\n      <td>No</td>\n    </tr>\n    <tr>\n      <th>2</th>\n      <td>3668-QPYBK</td>\n      <td>Male</td>\n      <td>0</td>\n      <td>No</td>\n      <td>No</td>\n      <td>2</td>\n      <td>Yes</td>\n      <td>No</td>\n      <td>DSL</td>\n      <td>Yes</td>\n      <td>...</td>\n      <td>No</td>\n      <td>No</td>\n      <td>No</td>\n      <td>No</td>\n      <td>Month-to-month</td>\n      <td>Yes</td>\n      <td>Mailed check</td>\n      <td>53.85</td>\n      <td>108.15</td>\n      <td>Yes</td>\n    </tr>\n    <tr>\n      <th>3</th>\n      <td>7795-CFOCW</td>\n      <td>Male</td>\n      <td>0</td>\n      <td>No</td>\n      <td>No</td>\n      <td>45</td>\n      <td>No</td>\n      <td>No phone service</td>\n      <td>DSL</td>\n      <td>Yes</td>\n      <td>...</td>\n      <td>Yes</td>\n      <td>Yes</td>\n      <td>No</td>\n      <td>No</td>\n      <td>One year</td>\n      <td>No</td>\n      <td>Bank transfer (automatic)</td>\n      <td>42.30</td>\n      <td>1840.75</td>\n      <td>No</td>\n    </tr>\n    <tr>\n      <th>4</th>\n      <td>9237-HQITU</td>\n      <td>Female</td>\n      <td>0</td>\n      <td>No</td>\n      <td>No</td>\n      <td>2</td>\n      <td>Yes</td>\n      <td>No</td>\n      <td>Fiber optic</td>\n      <td>No</td>\n      <td>...</td>\n      <td>No</td>\n      <td>No</td>\n      <td>No</td>\n      <td>No</td>\n      <td>Month-to-month</td>\n      <td>Yes</td>\n      <td>Electronic check</td>\n      <td>70.70</td>\n      <td>151.65</td>\n      <td>Yes</td>\n    </tr>\n  </tbody>\n</table>\n<p>5 rows × 21 columns</p>\n</div>"
     },
     "execution_count": 78,
     "metadata": {},
     "output_type": "execute_result"
    }
   ],
   "source": [
    "raw_data: pd.DataFrame = pd.read_csv(\n",
    "    \"../../dataset/00_raw/teleco_customer_churn.csv\"\n",
    ")\n",
    "\n",
    "raw_data.head(n=5)"
   ],
   "metadata": {
    "collapsed": false,
    "ExecuteTime": {
     "end_time": "2023-11-24T10:28:23.804457Z",
     "start_time": "2023-11-24T10:28:23.692715Z"
    }
   },
   "id": "68f92d69aa9c63a0"
  },
  {
   "cell_type": "markdown",
   "source": [
    "We will not do `Data Exploration` in this notebook. \n",
    "\n",
    "Data Exploration has been done in `part00_data_exploration.ipynb` notebook\n",
    "\n",
    "In this notebook, we will focus on:\n",
    "* splitting the data into training, validation, and testing set\n",
    "* calculate mean for `TotalCharge` column from training dataset\n",
    "* Impute the `null` in `TotalCharge` column with mean\n",
    "* Save the calculated mean, so that it can be used again in the inference step"
   ],
   "metadata": {
    "collapsed": false
   },
   "id": "140a0e826fdead9d"
  },
  {
   "cell_type": "code",
   "execution_count": 79,
   "outputs": [
    {
     "name": "stdout",
     "output_type": "stream",
     "text": [
      "Churn    int64\n",
      "dtype: object\n",
      "------------\n",
      "tenure                                       int64\n",
      "MonthlyCharges                             float64\n",
      "TotalCharges                               float64\n",
      "gender_Female                                int64\n",
      "gender_Male                                  int64\n",
      "SeniorCitizen_0                              int64\n",
      "SeniorCitizen_1                              int64\n",
      "Partner_No                                   int64\n",
      "Partner_Yes                                  int64\n",
      "Dependents_No                                int64\n",
      "Dependents_Yes                               int64\n",
      "PhoneService_No                              int64\n",
      "PhoneService_Yes                             int64\n",
      "MultipleLines_No                             int64\n",
      "MultipleLines_No phone service               int64\n",
      "MultipleLines_Yes                            int64\n",
      "InternetService_DSL                          int64\n",
      "InternetService_Fiber optic                  int64\n",
      "InternetService_No                           int64\n",
      "OnlineSecurity_No                            int64\n",
      "OnlineSecurity_No internet service           int64\n",
      "OnlineSecurity_Yes                           int64\n",
      "OnlineBackup_No                              int64\n",
      "OnlineBackup_No internet service             int64\n",
      "OnlineBackup_Yes                             int64\n",
      "DeviceProtection_No                          int64\n",
      "DeviceProtection_No internet service         int64\n",
      "DeviceProtection_Yes                         int64\n",
      "TechSupport_No                               int64\n",
      "TechSupport_No internet service              int64\n",
      "TechSupport_Yes                              int64\n",
      "StreamingTV_No                               int64\n",
      "StreamingTV_No internet service              int64\n",
      "StreamingTV_Yes                              int64\n",
      "StreamingMovies_No                           int64\n",
      "StreamingMovies_No internet service          int64\n",
      "StreamingMovies_Yes                          int64\n",
      "Contract_Month-to-month                      int64\n",
      "Contract_One year                            int64\n",
      "Contract_Two year                            int64\n",
      "PaperlessBilling_No                          int64\n",
      "PaperlessBilling_Yes                         int64\n",
      "PaymentMethod_Bank transfer (automatic)      int64\n",
      "PaymentMethod_Credit card (automatic)        int64\n",
      "PaymentMethod_Electronic check               int64\n",
      "PaymentMethod_Mailed check                   int64\n",
      "dtype: object\n"
     ]
    }
   ],
   "source": [
    "churn_label: pd.DataFrame \n",
    "df_ohe: pd.DataFrame\n",
    "\n",
    "_ ,churn_label, df_ohe = cleanse_transform_data(rw_data=raw_data)\n",
    "\n",
    "print(churn_label.dtypes)\n",
    "print(\"--\"*6)\n",
    "print(df_ohe.dtypes)"
   ],
   "metadata": {
    "collapsed": false,
    "ExecuteTime": {
     "end_time": "2023-11-24T10:28:24.396673Z",
     "start_time": "2023-11-24T10:28:23.752209Z"
    }
   },
   "id": "89cc7c42536542a"
  },
  {
   "cell_type": "markdown",
   "source": [
    "Let's split the `df_ohe` and `churn_label` into train, validation, and test dataset"
   ],
   "metadata": {
    "collapsed": false
   },
   "id": "fa5f1fe46a1f8bdb"
  },
  {
   "cell_type": "code",
   "execution_count": 80,
   "outputs": [
    {
     "name": "stdout",
     "output_type": "stream",
     "text": [
      "------------\n",
      "ohe_train (5346, 46) | churn_train (5346, 1)\n",
      "------------\n",
      "ohe_val (1783, 46) | churn_val (1783, 1)\n",
      "------------\n",
      "ohe_val (1783, 46) | churn_val (1783, 1)\n"
     ]
    }
   ],
   "source": [
    "ohe_train: pd.DataFrame\n",
    "ohe_val: pd.DataFrame\n",
    "ohe_test: pd.DataFrame\n",
    "churn_train: pd.DataFrame\n",
    "churn_val: pd.DataFrame\n",
    "churn_test: pd.DataFrame\n",
    "\n",
    "ohe_train, ohe_test, churn_train, churn_test = train_test_split(\n",
    "    df_ohe, \n",
    "    churn_label, \n",
    "    test_size=0.2, \n",
    "    shuffle=True, \n",
    "    random_state=200\n",
    ")\n",
    "\n",
    "ohe_train, ohe_val, churn_train, churn_val = train_test_split(\n",
    "    ohe_train,\n",
    "    churn_train, \n",
    "    test_size=0.25,\n",
    "    shuffle=True, \n",
    "    random_state=200\n",
    ")\n",
    "\n",
    "print(\"--\"*6)\n",
    "print(f\"ohe_train {ohe_train.shape} | churn_train {churn_train.shape}\")\n",
    "print(\"--\"*6)\n",
    "print(f\"ohe_val {ohe_val.shape} | churn_val {churn_val.shape}\")\n",
    "print(\"--\"*6)\n",
    "print(f\"ohe_val {ohe_test.shape} | churn_val {churn_test.shape}\")\n",
    "\n",
    "dataset_to_save: Dict[str, pd.DataFrame] = {\n",
    "    \"ohe_train\": ohe_train, \n",
    "    \"churn_train\": churn_train,\n",
    "    \"ohe_val\": ohe_val, \n",
    "    \"churn_val\": churn_val,\n",
    "    \"ohe_test\": ohe_test,\n",
    "    \"churn_test\": churn_test\n",
    "}\n",
    "\n",
    "# save split dataset\n",
    "for each_key, each_df in dataset_to_save.items():\n",
    "    each_df.to_csv(\n",
    "        path_or_buf=f\"../../dataset/01_interim/{each_key}.csv\", \n",
    "        index=False\n",
    "    )"
   ],
   "metadata": {
    "collapsed": false,
    "ExecuteTime": {
     "end_time": "2023-11-24T10:28:24.546063Z",
     "start_time": "2023-11-24T10:28:24.400798Z"
    }
   },
   "id": "9c049b95d86429f6"
  },
  {
   "cell_type": "markdown",
   "source": [
    "Cool, so now we already have `train` dataset, `validation` dataset, and `train` dataset\n",
    "\n",
    "Now, remember from previous notebook `part00_data_exploration`, we obtained 11 `null` in `TotalCharge` column once it was converted to \"int64\"\n",
    "\n",
    "Now that we have split the dataset into `train` , `validation` and `test` dataset; we can calculate the mean from the `train` dataset, and then impute all the `null` in all dataset with the calculated mean from the training\n",
    "\n",
    "We will save this calculated mean into `config.yaml` because we have to impute the same value to future `null` in future inferences"
   ],
   "metadata": {
    "collapsed": false
   },
   "id": "79c5580220149191"
  },
  {
   "cell_type": "code",
   "execution_count": 81,
   "outputs": [],
   "source": [
    "mean_total_charges: float = round(ohe_train[\"TotalCharges\"].mean(), 2) \n",
    "\n",
    "# Save calculated mean_total_charges to YAML file for future uses\n",
    "with open(\"../../config.yaml\", \"w\") as file_stream:\n",
    "    yaml.safe_dump(\n",
    "        data={\"MEAN_TOTAL_CHARGES\": int(mean_total_charges)},\n",
    "        stream=file_stream\n",
    "    )\n",
    "\n",
    "# impute null values with calculated mean_total_charges\n",
    "ohe_train.fillna(value=mean_total_charges, inplace=True)"
   ],
   "metadata": {
    "collapsed": false,
    "ExecuteTime": {
     "end_time": "2023-11-24T10:28:24.552890Z",
     "start_time": "2023-11-24T10:28:24.545795Z"
    }
   },
   "id": "1eda25ad99b63401"
  },
  {
   "cell_type": "markdown",
   "source": [
    "Let's find the range of each column in `ohe_train`"
   ],
   "metadata": {
    "collapsed": false
   },
   "id": "292b79d09a245694"
  },
  {
   "cell_type": "code",
   "execution_count": 82,
   "outputs": [
    {
     "data": {
      "text/plain": "     tenure  MonthlyCharges  TotalCharges  gender_Female  gender_Male  \\\nmin       0           18.25          18.8              0            0   \nmax      72          118.65        8594.4              1            1   \n\n     SeniorCitizen_0  SeniorCitizen_1  Partner_No  Partner_Yes  Dependents_No  \\\nmin                0                0           0            0              0   \nmax                1                1           1            1              1   \n\n     ...  StreamingMovies_Yes  Contract_Month-to-month  Contract_One year  \\\nmin  ...                    0                        0                  0   \nmax  ...                    1                        1                  1   \n\n     Contract_Two year  PaperlessBilling_No  PaperlessBilling_Yes  \\\nmin                  0                    0                     0   \nmax                  1                    1                     1   \n\n     PaymentMethod_Bank transfer (automatic)  \\\nmin                                        0   \nmax                                        1   \n\n     PaymentMethod_Credit card (automatic)  PaymentMethod_Electronic check  \\\nmin                                      0                               0   \nmax                                      1                               1   \n\n     PaymentMethod_Mailed check  \nmin                           0  \nmax                           1  \n\n[2 rows x 46 columns]",
      "text/html": "<div>\n<style scoped>\n    .dataframe tbody tr th:only-of-type {\n        vertical-align: middle;\n    }\n\n    .dataframe tbody tr th {\n        vertical-align: top;\n    }\n\n    .dataframe thead th {\n        text-align: right;\n    }\n</style>\n<table border=\"1\" class=\"dataframe\">\n  <thead>\n    <tr style=\"text-align: right;\">\n      <th></th>\n      <th>tenure</th>\n      <th>MonthlyCharges</th>\n      <th>TotalCharges</th>\n      <th>gender_Female</th>\n      <th>gender_Male</th>\n      <th>SeniorCitizen_0</th>\n      <th>SeniorCitizen_1</th>\n      <th>Partner_No</th>\n      <th>Partner_Yes</th>\n      <th>Dependents_No</th>\n      <th>...</th>\n      <th>StreamingMovies_Yes</th>\n      <th>Contract_Month-to-month</th>\n      <th>Contract_One year</th>\n      <th>Contract_Two year</th>\n      <th>PaperlessBilling_No</th>\n      <th>PaperlessBilling_Yes</th>\n      <th>PaymentMethod_Bank transfer (automatic)</th>\n      <th>PaymentMethod_Credit card (automatic)</th>\n      <th>PaymentMethod_Electronic check</th>\n      <th>PaymentMethod_Mailed check</th>\n    </tr>\n  </thead>\n  <tbody>\n    <tr>\n      <th>min</th>\n      <td>0</td>\n      <td>18.25</td>\n      <td>18.8</td>\n      <td>0</td>\n      <td>0</td>\n      <td>0</td>\n      <td>0</td>\n      <td>0</td>\n      <td>0</td>\n      <td>0</td>\n      <td>...</td>\n      <td>0</td>\n      <td>0</td>\n      <td>0</td>\n      <td>0</td>\n      <td>0</td>\n      <td>0</td>\n      <td>0</td>\n      <td>0</td>\n      <td>0</td>\n      <td>0</td>\n    </tr>\n    <tr>\n      <th>max</th>\n      <td>72</td>\n      <td>118.65</td>\n      <td>8594.4</td>\n      <td>1</td>\n      <td>1</td>\n      <td>1</td>\n      <td>1</td>\n      <td>1</td>\n      <td>1</td>\n      <td>1</td>\n      <td>...</td>\n      <td>1</td>\n      <td>1</td>\n      <td>1</td>\n      <td>1</td>\n      <td>1</td>\n      <td>1</td>\n      <td>1</td>\n      <td>1</td>\n      <td>1</td>\n      <td>1</td>\n    </tr>\n  </tbody>\n</table>\n<p>2 rows × 46 columns</p>\n</div>"
     },
     "metadata": {},
     "output_type": "display_data"
    }
   ],
   "source": [
    "df_range: pd.DataFrame =  ohe_train.agg(func=[\"min\", \"max\"])\n",
    "\n",
    "display(df_range)"
   ],
   "metadata": {
    "collapsed": false,
    "ExecuteTime": {
     "end_time": "2023-11-24T10:28:24.617032Z",
     "start_time": "2023-11-24T10:28:24.554628Z"
    }
   },
   "id": "bb96edeb8f12ad48"
  },
  {
   "cell_type": "markdown",
   "source": [
    "For those columns whose `max > 1` : we need to scale them so that they are in the same range as other columns"
   ],
   "metadata": {
    "collapsed": false
   },
   "id": "a792c5b2822c22d9"
  },
  {
   "cell_type": "code",
   "execution_count": 83,
   "outputs": [],
   "source": [
    "# Find list of columns whose  `Max` is greater than `1`\n",
    "columns_to_scale: List[str] = df_range.columns[df_range.loc[\"max\"] > 1].to_list() "
   ],
   "metadata": {
    "collapsed": false,
    "ExecuteTime": {
     "end_time": "2023-11-24T10:28:24.624192Z",
     "start_time": "2023-11-24T10:28:24.616543Z"
    }
   },
   "id": "125d2b538f46d113"
  },
  {
   "cell_type": "code",
   "execution_count": 84,
   "outputs": [
    {
     "data": {
      "text/plain": "        tenure  MonthlyCharges  TotalCharges  gender_Female  gender_Male  \\\n2228  0.875000        0.401394      0.406351              1            0   \n4264  1.000000        0.659363      0.701327              0            1   \n5549  0.972222        0.504980      0.564380              0            1   \n6960  0.069444        0.276394      0.023660              1            0   \n7286  0.041667        0.517928      0.024593              1            0   \n...        ...             ...           ...            ...          ...   \n7832  0.055556        0.537351      0.033438              0            1   \n2163  0.402778        0.368526      0.186739              1            0   \n5479  0.027778        0.257968      0.008612              0            1   \n1070  0.861111        0.815737      0.745703              1            0   \n8600  0.597222        0.727092      0.465857              0            1   \n\n      SeniorCitizen_0  SeniorCitizen_1  Partner_No  Partner_Yes  \\\n2228                1                0           1            0   \n4264                1                0           0            1   \n5549                1                0           0            1   \n6960                1                0           1            0   \n7286                1                0           1            0   \n...               ...              ...         ...          ...   \n7832                1                0           1            0   \n2163                1                0           1            0   \n5479                0                1           1            0   \n1070                1                0           1            0   \n8600                1                0           0            1   \n\n      Dependents_No  ...  StreamingMovies_Yes  Contract_Month-to-month  \\\n2228              1  ...                    1                        0   \n4264              1  ...                    1                        0   \n5549              0  ...                    0                        0   \n6960              0  ...                    0                        1   \n7286              1  ...                    0                        1   \n...             ...  ...                  ...                      ...   \n7832              1  ...                    0                        1   \n2163              1  ...                    0                        0   \n5479              1  ...                    0                        1   \n1070              0  ...                    1                        0   \n8600              0  ...                    0                        0   \n\n      Contract_One year  Contract_Two year  PaperlessBilling_No  \\\n2228                  1                  0                    1   \n4264                  0                  1                    1   \n5549                  0                  1                    1   \n6960                  0                  0                    1   \n7286                  0                  0                    0   \n...                 ...                ...                  ...   \n7832                  0                  0                    0   \n2163                  1                  0                    0   \n5479                  0                  0                    0   \n1070                  1                  0                    0   \n8600                  1                  0                    0   \n\n      PaperlessBilling_Yes  PaymentMethod_Bank transfer (automatic)  \\\n2228                     0                                        0   \n4264                     0                                        0   \n5549                     0                                        0   \n6960                     0                                        0   \n7286                     1                                        0   \n...                    ...                                      ...   \n7832                     1                                        1   \n2163                     1                                        0   \n5479                     1                                        0   \n1070                     1                                        0   \n8600                     1                                        0   \n\n      PaymentMethod_Credit card (automatic)  PaymentMethod_Electronic check  \\\n2228                                      1                               0   \n4264                                      0                               0   \n5549                                      1                               0   \n6960                                      0                               0   \n7286                                      0                               1   \n...                                     ...                             ...   \n7832                                      0                               0   \n2163                                      0                               1   \n5479                                      0                               1   \n1070                                      0                               1   \n8600                                      1                               0   \n\n      PaymentMethod_Mailed check  \n2228                           0  \n4264                           1  \n5549                           0  \n6960                           1  \n7286                           0  \n...                          ...  \n7832                           0  \n2163                           0  \n5479                           0  \n1070                           0  \n8600                           0  \n\n[5346 rows x 46 columns]",
      "text/html": "<div>\n<style scoped>\n    .dataframe tbody tr th:only-of-type {\n        vertical-align: middle;\n    }\n\n    .dataframe tbody tr th {\n        vertical-align: top;\n    }\n\n    .dataframe thead th {\n        text-align: right;\n    }\n</style>\n<table border=\"1\" class=\"dataframe\">\n  <thead>\n    <tr style=\"text-align: right;\">\n      <th></th>\n      <th>tenure</th>\n      <th>MonthlyCharges</th>\n      <th>TotalCharges</th>\n      <th>gender_Female</th>\n      <th>gender_Male</th>\n      <th>SeniorCitizen_0</th>\n      <th>SeniorCitizen_1</th>\n      <th>Partner_No</th>\n      <th>Partner_Yes</th>\n      <th>Dependents_No</th>\n      <th>...</th>\n      <th>StreamingMovies_Yes</th>\n      <th>Contract_Month-to-month</th>\n      <th>Contract_One year</th>\n      <th>Contract_Two year</th>\n      <th>PaperlessBilling_No</th>\n      <th>PaperlessBilling_Yes</th>\n      <th>PaymentMethod_Bank transfer (automatic)</th>\n      <th>PaymentMethod_Credit card (automatic)</th>\n      <th>PaymentMethod_Electronic check</th>\n      <th>PaymentMethod_Mailed check</th>\n    </tr>\n  </thead>\n  <tbody>\n    <tr>\n      <th>2228</th>\n      <td>0.875000</td>\n      <td>0.401394</td>\n      <td>0.406351</td>\n      <td>1</td>\n      <td>0</td>\n      <td>1</td>\n      <td>0</td>\n      <td>1</td>\n      <td>0</td>\n      <td>1</td>\n      <td>...</td>\n      <td>1</td>\n      <td>0</td>\n      <td>1</td>\n      <td>0</td>\n      <td>1</td>\n      <td>0</td>\n      <td>0</td>\n      <td>1</td>\n      <td>0</td>\n      <td>0</td>\n    </tr>\n    <tr>\n      <th>4264</th>\n      <td>1.000000</td>\n      <td>0.659363</td>\n      <td>0.701327</td>\n      <td>0</td>\n      <td>1</td>\n      <td>1</td>\n      <td>0</td>\n      <td>0</td>\n      <td>1</td>\n      <td>1</td>\n      <td>...</td>\n      <td>1</td>\n      <td>0</td>\n      <td>0</td>\n      <td>1</td>\n      <td>1</td>\n      <td>0</td>\n      <td>0</td>\n      <td>0</td>\n      <td>0</td>\n      <td>1</td>\n    </tr>\n    <tr>\n      <th>5549</th>\n      <td>0.972222</td>\n      <td>0.504980</td>\n      <td>0.564380</td>\n      <td>0</td>\n      <td>1</td>\n      <td>1</td>\n      <td>0</td>\n      <td>0</td>\n      <td>1</td>\n      <td>0</td>\n      <td>...</td>\n      <td>0</td>\n      <td>0</td>\n      <td>0</td>\n      <td>1</td>\n      <td>1</td>\n      <td>0</td>\n      <td>0</td>\n      <td>1</td>\n      <td>0</td>\n      <td>0</td>\n    </tr>\n    <tr>\n      <th>6960</th>\n      <td>0.069444</td>\n      <td>0.276394</td>\n      <td>0.023660</td>\n      <td>1</td>\n      <td>0</td>\n      <td>1</td>\n      <td>0</td>\n      <td>1</td>\n      <td>0</td>\n      <td>0</td>\n      <td>...</td>\n      <td>0</td>\n      <td>1</td>\n      <td>0</td>\n      <td>0</td>\n      <td>1</td>\n      <td>0</td>\n      <td>0</td>\n      <td>0</td>\n      <td>0</td>\n      <td>1</td>\n    </tr>\n    <tr>\n      <th>7286</th>\n      <td>0.041667</td>\n      <td>0.517928</td>\n      <td>0.024593</td>\n      <td>1</td>\n      <td>0</td>\n      <td>1</td>\n      <td>0</td>\n      <td>1</td>\n      <td>0</td>\n      <td>1</td>\n      <td>...</td>\n      <td>0</td>\n      <td>1</td>\n      <td>0</td>\n      <td>0</td>\n      <td>0</td>\n      <td>1</td>\n      <td>0</td>\n      <td>0</td>\n      <td>1</td>\n      <td>0</td>\n    </tr>\n    <tr>\n      <th>...</th>\n      <td>...</td>\n      <td>...</td>\n      <td>...</td>\n      <td>...</td>\n      <td>...</td>\n      <td>...</td>\n      <td>...</td>\n      <td>...</td>\n      <td>...</td>\n      <td>...</td>\n      <td>...</td>\n      <td>...</td>\n      <td>...</td>\n      <td>...</td>\n      <td>...</td>\n      <td>...</td>\n      <td>...</td>\n      <td>...</td>\n      <td>...</td>\n      <td>...</td>\n      <td>...</td>\n    </tr>\n    <tr>\n      <th>7832</th>\n      <td>0.055556</td>\n      <td>0.537351</td>\n      <td>0.033438</td>\n      <td>0</td>\n      <td>1</td>\n      <td>1</td>\n      <td>0</td>\n      <td>1</td>\n      <td>0</td>\n      <td>1</td>\n      <td>...</td>\n      <td>0</td>\n      <td>1</td>\n      <td>0</td>\n      <td>0</td>\n      <td>0</td>\n      <td>1</td>\n      <td>1</td>\n      <td>0</td>\n      <td>0</td>\n      <td>0</td>\n    </tr>\n    <tr>\n      <th>2163</th>\n      <td>0.402778</td>\n      <td>0.368526</td>\n      <td>0.186739</td>\n      <td>1</td>\n      <td>0</td>\n      <td>1</td>\n      <td>0</td>\n      <td>1</td>\n      <td>0</td>\n      <td>1</td>\n      <td>...</td>\n      <td>0</td>\n      <td>0</td>\n      <td>1</td>\n      <td>0</td>\n      <td>0</td>\n      <td>1</td>\n      <td>0</td>\n      <td>0</td>\n      <td>1</td>\n      <td>0</td>\n    </tr>\n    <tr>\n      <th>5479</th>\n      <td>0.027778</td>\n      <td>0.257968</td>\n      <td>0.008612</td>\n      <td>0</td>\n      <td>1</td>\n      <td>0</td>\n      <td>1</td>\n      <td>1</td>\n      <td>0</td>\n      <td>1</td>\n      <td>...</td>\n      <td>0</td>\n      <td>1</td>\n      <td>0</td>\n      <td>0</td>\n      <td>0</td>\n      <td>1</td>\n      <td>0</td>\n      <td>0</td>\n      <td>1</td>\n      <td>0</td>\n    </tr>\n    <tr>\n      <th>1070</th>\n      <td>0.861111</td>\n      <td>0.815737</td>\n      <td>0.745703</td>\n      <td>1</td>\n      <td>0</td>\n      <td>1</td>\n      <td>0</td>\n      <td>1</td>\n      <td>0</td>\n      <td>0</td>\n      <td>...</td>\n      <td>1</td>\n      <td>0</td>\n      <td>1</td>\n      <td>0</td>\n      <td>0</td>\n      <td>1</td>\n      <td>0</td>\n      <td>0</td>\n      <td>1</td>\n      <td>0</td>\n    </tr>\n    <tr>\n      <th>8600</th>\n      <td>0.597222</td>\n      <td>0.727092</td>\n      <td>0.465857</td>\n      <td>0</td>\n      <td>1</td>\n      <td>1</td>\n      <td>0</td>\n      <td>0</td>\n      <td>1</td>\n      <td>0</td>\n      <td>...</td>\n      <td>0</td>\n      <td>0</td>\n      <td>1</td>\n      <td>0</td>\n      <td>0</td>\n      <td>1</td>\n      <td>0</td>\n      <td>1</td>\n      <td>0</td>\n      <td>0</td>\n    </tr>\n  </tbody>\n</table>\n<p>5346 rows × 46 columns</p>\n</div>"
     },
     "metadata": {},
     "output_type": "display_data"
    }
   ],
   "source": [
    "mm_scaler: MinMaxScaler = MinMaxScaler(\n",
    "    feature_range=(0, 1)\n",
    ")\n",
    "\n",
    "# train scaler using train dataset\n",
    "for each_cols in columns_to_scale:\n",
    "    ds: pd.Series = ohe_train[[each_cols]].copy()\n",
    "    ds_scaled = mm_scaler.fit_transform(ds)\n",
    "    joblib.dump(\n",
    "        value=mm_scaler,\n",
    "        filename=f\"../../models/scaler/mm_scaler_{each_cols}.pkl\"\n",
    "    ) # -->> save each scaler to pickle\n",
    "    ohe_train[[each_cols]] = ds_scaled\n",
    "    \n",
    "\n",
    "display(ohe_train)"
   ],
   "metadata": {
    "collapsed": false,
    "ExecuteTime": {
     "end_time": "2023-11-24T10:28:24.736203Z",
     "start_time": "2023-11-24T10:28:24.627583Z"
    }
   },
   "id": "3182d9bd1edbb555"
  },
  {
   "cell_type": "markdown",
   "source": [
    "Alright, once we scale all numerical form to between `0` to `1`, we can convert the dataframe to numpy array for further processing later"
   ],
   "metadata": {
    "collapsed": false
   },
   "id": "e0a24ab2b13ae6b7"
  },
  {
   "cell_type": "code",
   "execution_count": 85,
   "outputs": [
    {
     "name": "stdout",
     "output_type": "stream",
     "text": [
      "ohe_np shape (5346, 46)\n",
      "churn_np shape (5346, 1)\n"
     ]
    }
   ],
   "source": [
    "# converting pandas dataframe to numpy\n",
    "\n",
    "ohe_np: np.ndarray = ohe_train.to_numpy()\n",
    "churn_np: np.ndarray = churn_train.to_numpy()\n",
    "\n",
    "print(f\"ohe_np shape {ohe_np.shape}\")\n",
    "print(f\"churn_np shape {churn_np.shape}\")"
   ],
   "metadata": {
    "collapsed": false,
    "ExecuteTime": {
     "end_time": "2023-11-24T10:28:24.736657Z",
     "start_time": "2023-11-24T10:28:24.694607Z"
    }
   },
   "id": "dd422dd756ca53a2"
  },
  {
   "cell_type": "markdown",
   "source": [
    "Hence, to recap, for the data_splitting, we are doing the following: \n",
    "1. impute `null` in `TotalCharges` with mean value\n",
    "2. Scale `tenure` , `MonthlyCharge`, and `TotalCharges` using MinMaxScaler\n",
    "3. Convert pandas dataframe to numpy\n",
    "\n",
    "As usual, let's create a function to encapsulate all these steps, so that it can be reused"
   ],
   "metadata": {
    "collapsed": false
   },
   "id": "2f92e9e2a750ced0"
  },
  {
   "cell_type": "code",
   "execution_count": 86,
   "outputs": [],
   "source": [
    "class NpData(NamedTuple):\n",
    "    ohe_np: np.ndarray\n",
    "    churn_np: np.ndarray\n",
    "\n",
    "def impute_scale_and_convert_to_numpy(\n",
    "        ohe_df: pd.DataFrame,\n",
    "        columns_with_nulls: List[str],\n",
    "        impute_val: List, \n",
    "        scaler_folder: str,\n",
    "        churn_df: pd.DataFrame\n",
    ") -> NpData:\n",
    "    \"\"\"\n",
    "    \n",
    "    :param ohe_df: dataframe to impute and scale \n",
    "    :param columns_with_nulls:  the column which has null values\n",
    "    :param impute_val:  list of values to replace the nulls\n",
    "    :param scaler_folder:  folder where we put the scaler\n",
    "    :param churn_df: dataframe of the churn target\n",
    "    :return: A tuple of scaled feature numpy array and churn target numpy array\n",
    "    \"\"\"\n",
    "    \n",
    "    # Impute null values\n",
    "    for each_cols, im_val in zip(columns_with_nulls, impute_val):\n",
    "        ohe_df[[each_cols]] = ohe_df[[each_cols]].fillna(value=im_val, inplace=False)\n",
    "    \n",
    "    # scale columns to between 0 and 1\n",
    "    df_range: pd.DataFrame = ohe_df.agg(func=[\"min\", \"max\"])\n",
    "    columns_to_scale: List[str] = df_range.columns[df_range.loc[\"max\"] > 1].to_list()\n",
    "    \n",
    "    for each_cols in columns_to_scale:\n",
    "        ds: pd.Series = ohe_df[[each_cols]].copy()\n",
    "        \n",
    "        file_path: str = f\"{scaler_folder}/mm_scaler_{each_cols}.pkl\" \n",
    "        mm_scaler: MinMaxScaler = joblib.load(filename=file_path)\n",
    "        ds_scaled = mm_scaler.transform(ds)\n",
    "        ohe_df[[each_cols]] = ds_scaled\n",
    "    \n",
    "    ohe_np: np.ndarray = ohe_df.to_numpy()\n",
    "    churn_np: np.ndarray = churn_df.to_numpy()\n",
    "    \n",
    "    return NpData(\n",
    "        ohe_np=ohe_np,\n",
    "        churn_np=churn_np\n",
    "    )"
   ],
   "metadata": {
    "collapsed": false,
    "ExecuteTime": {
     "end_time": "2023-11-24T10:28:24.736797Z",
     "start_time": "2023-11-24T10:28:24.706545Z"
    }
   },
   "id": "dbd0fdb18b50e634"
  },
  {
   "cell_type": "markdown",
   "source": [
    "Let's try our newly minted function "
   ],
   "metadata": {
    "collapsed": false
   },
   "id": "920690d8a68e1e67"
  },
  {
   "cell_type": "code",
   "execution_count": 87,
   "outputs": [
    {
     "name": "stdout",
     "output_type": "stream",
     "text": [
      "_ohe_np shape (5346, 46)\n",
      "------------------\n",
      "_churn_np shape (5346, 1)\n"
     ]
    }
   ],
   "source": [
    "_ohe_np: np.ndarray\n",
    "_churn_np: np.ndarray\n",
    "\n",
    "_ohe_np, _churn_np = impute_scale_and_convert_to_numpy(\n",
    "    ohe_df=ohe_train,\n",
    "    columns_with_nulls=[\"TotalCharges\"],\n",
    "    impute_val=[mean_total_charges],\n",
    "    scaler_folder=\"../../models/scaler\",\n",
    "    churn_df=churn_train\n",
    ")\n",
    "\n",
    "print(f\"_ohe_np shape {_ohe_np.shape}\")\n",
    "print(\"---\"*6)\n",
    "print(f\"_churn_np shape {_churn_np.shape}\")"
   ],
   "metadata": {
    "collapsed": false,
    "ExecuteTime": {
     "end_time": "2023-11-24T10:28:24.814798Z",
     "start_time": "2023-11-24T10:28:24.712792Z"
    }
   },
   "id": "ad7ff650bbbedb98"
  },
  {
   "cell_type": "code",
   "execution_count": 87,
   "outputs": [],
   "source": [],
   "metadata": {
    "collapsed": false,
    "ExecuteTime": {
     "end_time": "2023-11-24T10:28:24.814952Z",
     "start_time": "2023-11-24T10:28:24.765837Z"
    }
   },
   "id": "9b8941135e596d8f"
  }
 ],
 "metadata": {
  "kernelspec": {
   "display_name": "Python 3",
   "language": "python",
   "name": "python3"
  },
  "language_info": {
   "codemirror_mode": {
    "name": "ipython",
    "version": 2
   },
   "file_extension": ".py",
   "mimetype": "text/x-python",
   "name": "python",
   "nbconvert_exporter": "python",
   "pygments_lexer": "ipython2",
   "version": "2.7.6"
  }
 },
 "nbformat": 4,
 "nbformat_minor": 5
}
