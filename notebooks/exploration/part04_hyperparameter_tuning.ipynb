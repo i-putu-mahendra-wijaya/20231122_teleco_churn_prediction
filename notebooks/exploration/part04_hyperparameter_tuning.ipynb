{
 "cells": [
  {
   "cell_type": "markdown",
   "source": [
    "# Part 04 - Hyperparameter Tuning"
   ],
   "metadata": {
    "collapsed": false
   },
   "id": "9ae190f08838cd7e"
  },
  {
   "cell_type": "code",
   "execution_count": 30,
   "outputs": [],
   "source": [
    "# import modules\n",
    "\n",
    "from typing import Dict, List, Union\n",
    "import time\n",
    "\n",
    "import joblib\n",
    "import pandas as pd\n",
    "import numpy as np\n",
    "import yaml\n",
    "from sklearn.ensemble import GradientBoostingClassifier\n",
    "from sklearn.model_selection import GridSearchCV\n",
    "from sklearn.decomposition import PCA\n",
    "from sklearn.metrics import accuracy_score\n",
    "\n",
    "from src.commons.Utils import impute_scale_and_convert_to_numpy"
   ],
   "metadata": {
    "collapsed": false,
    "ExecuteTime": {
     "end_time": "2023-11-25T15:13:45.714526Z",
     "start_time": "2023-11-25T15:13:45.632851Z"
    }
   },
   "id": "bb7d1f9f5cee6018"
  },
  {
   "cell_type": "code",
   "execution_count": 31,
   "outputs": [],
   "source": [
    "ohe_train: pd.DataFrame\n",
    "ohe_val: pd.DataFrame\n",
    "ohe_test: pd.DataFrame\n",
    "\n",
    "churn_train: pd.DataFrame\n",
    "churn_val: pd.DataFrame\n",
    "churn_test: pd.DataFrame\n",
    "\n",
    "ohe_train = pd.read_csv(\n",
    "    filepath_or_buffer=\"../../dataset/01_interim/ohe_train.csv\"\n",
    ")\n",
    "\n",
    "churn_train = pd.read_csv(\n",
    "    filepath_or_buffer=\"../../dataset/01_interim/churn_train.csv\"\n",
    ")\n",
    "\n",
    "ohe_val = pd.read_csv(\n",
    "    filepath_or_buffer=\"../../dataset/01_interim/ohe_val.csv\"\n",
    ")\n",
    "\n",
    "churn_val = pd.read_csv(\n",
    "    filepath_or_buffer=\"../../dataset/01_interim/churn_val.csv\"\n",
    ")\n",
    "\n",
    "ohe_test = pd.read_csv(\n",
    "    filepath_or_buffer=\"../../dataset/01_interim/ohe_test.csv\"\n",
    ")\n",
    "\n",
    "churn_test = pd.read_csv(\n",
    "    filepath_or_buffer=\"../../dataset/01_interim/churn_test.csv\"\n",
    ")"
   ],
   "metadata": {
    "collapsed": false,
    "ExecuteTime": {
     "end_time": "2023-11-25T15:13:45.728840Z",
     "start_time": "2023-11-25T15:13:45.642305Z"
    }
   },
   "id": "222c107dacaaabf3"
  },
  {
   "cell_type": "code",
   "execution_count": 32,
   "outputs": [],
   "source": [
    "with open(file=\"../../config.yaml\", mode=\"r\") as file_stream: \n",
    "    yml = yaml.load(\n",
    "        stream=file_stream,\n",
    "        Loader=yaml.SafeLoader\n",
    "    )\n",
    "    mean_total_charges: float = yml[\"MEAN_TOTAL_CHARGES\"]"
   ],
   "metadata": {
    "collapsed": false,
    "ExecuteTime": {
     "end_time": "2023-11-25T15:13:45.742307Z",
     "start_time": "2023-11-25T15:13:45.703149Z"
    }
   },
   "id": "71a1ab97ae8597bd"
  },
  {
   "cell_type": "code",
   "execution_count": 33,
   "outputs": [],
   "source": [
    "scaler_folder: str = \"../../models/scaler\"\n",
    "\n",
    "feature_train_np: np.ndarray \n",
    "churn_train_np: np.ndarray\n",
    "\n",
    "feature_val_np: np.ndarray\n",
    "churn_val_np: np.ndarray\n",
    "\n",
    "feature_test_np: np.ndarray\n",
    "churn_test_np: np.ndarray\n",
    "\n",
    "feature_train_np, churn_train_np = impute_scale_and_convert_to_numpy(\n",
    "    ohe_df=ohe_train,\n",
    "    columns_with_nulls=[\"TotalCharges\"],\n",
    "    impute_val=[mean_total_charges],\n",
    "    scaler_folder=scaler_folder,\n",
    "    churn_df=churn_train\n",
    ")\n",
    "\n",
    "feature_val_np, churn_val_np = impute_scale_and_convert_to_numpy(\n",
    "    ohe_df=ohe_val,\n",
    "    columns_with_nulls=[\"TotalCharges\"],\n",
    "    impute_val=[mean_total_charges],\n",
    "    scaler_folder=scaler_folder,\n",
    "    churn_df=churn_val    \n",
    ")\n",
    "\n",
    "feature_test_np, churn_test_np = impute_scale_and_convert_to_numpy(\n",
    "    ohe_df=ohe_test,\n",
    "    columns_with_nulls=[\"TotalCharges\"],\n",
    "    impute_val=[mean_total_charges],\n",
    "    scaler_folder=scaler_folder,\n",
    "    churn_df=churn_test    \n",
    ")\n"
   ],
   "metadata": {
    "collapsed": false,
    "ExecuteTime": {
     "end_time": "2023-11-25T15:13:45.884245Z",
     "start_time": "2023-11-25T15:13:45.717650Z"
    }
   },
   "id": "58b73b30df4b4eed"
  },
  {
   "cell_type": "code",
   "execution_count": 34,
   "outputs": [],
   "source": [
    "# Load Trained PCA\n",
    "pca: PCA = joblib.load(\n",
    "    filename=\"../../models/feature_pca.pkl\"\n",
    ")\n",
    "\n",
    "# Convert feature_np to feature_pca\n",
    "feature_train_pca: np.ndarray = pca.transform(X=feature_train_np)\n",
    "feature_val_pca: np.ndarray = pca.transform(X=feature_val_np)\n",
    "feature_test_pca: np.ndarray = pca.transform(X=feature_test_np)"
   ],
   "metadata": {
    "collapsed": false,
    "ExecuteTime": {
     "end_time": "2023-11-25T15:13:45.895516Z",
     "start_time": "2023-11-25T15:13:45.889917Z"
    }
   },
   "id": "f97232b1c0085aa9"
  },
  {
   "cell_type": "code",
   "execution_count": 35,
   "outputs": [
    {
     "name": "stdout",
     "output_type": "stream",
     "text": [
      "Fitting 5 folds for each of 81 candidates, totalling 405 fits\n"
     ]
    }
   ],
   "source": [
    "# Load trained GradientBoostingClassifier\n",
    "gb_classifier: GradientBoostingClassifier = joblib.load(\n",
    "    filename=\"../../models/gb_classifier.pkl\"\n",
    ")\n",
    "\n",
    "# Define parameter grid\n",
    "param_grid: Dict[str, List] = {\n",
    "    \"n_estimators\": [100, 200, 300],\n",
    "    \"learning_rate\": [0.1, 0.2, 0.3],\n",
    "    \"max_depth\": [3, 5, 7],\n",
    "    \"min_samples_split\": [2, 5, 10]\n",
    "}\n",
    "\n",
    "# Create GridSearchCV object\n",
    "grid_search: GridSearchCV = GridSearchCV(\n",
    "    estimator=gb_classifier,\n",
    "    param_grid=param_grid,\n",
    "    scoring=\"accuracy\",\n",
    "    verbose=1\n",
    ")\n",
    "\n",
    "# Measure the time taken for searching the grid\n",
    "_tic: float = time.time()\n",
    "\n",
    "grid_search.fit(\n",
    "    X=feature_train_pca,\n",
    "    y=churn_train_np.ravel()\n",
    ")\n",
    "\n",
    "_toc: float = time.time()\n",
    "\n",
    "search_period: float = _toc - _tic\n",
    "\n",
    "# Get the best parameters\n",
    "best_params: Dict[str, Union[int, float]] = grid_search.best_params_"
   ],
   "metadata": {
    "collapsed": false,
    "ExecuteTime": {
     "end_time": "2023-11-25T15:26:42.552526Z",
     "start_time": "2023-11-25T15:13:45.902245Z"
    }
   },
   "id": "43fa156797ad9777"
  },
  {
   "cell_type": "code",
   "execution_count": 37,
   "outputs": [
    {
     "name": "stdout",
     "output_type": "stream",
     "text": [
      "Best GradientBoostingClassifier model\n",
      "search period 776.6343929767609 seconds\n",
      "----------------------------------------\n",
      "Accuracy Score train 0.9942012719790497\n",
      "Accuracy Score val 0.8126752664049355\n",
      "Accuracy Score test 0.7986539540100953\n"
     ]
    }
   ],
   "source": [
    "# Evaluate the best model\n",
    "best_gb: GradientBoostingClassifier = GradientBoostingClassifier(**best_params)\n",
    "best_gb.fit(X=feature_train_pca, y=churn_train_np.ravel())\n",
    "\n",
    "joblib.dump(\n",
    "    value=best_gb,\n",
    "    filename=\"../../models/gb_classifier_best.pkl\"\n",
    ")\n",
    "\n",
    "y_pred_train: np.ndarray = best_gb.predict(X=feature_train_pca)\n",
    "y_pred_val: np.ndarray = best_gb.predict(X=feature_val_pca)\n",
    "y_pred_test: np.ndarray = best_gb.predict(X=feature_test_pca)\n",
    "\n",
    "accuracy_train: float = accuracy_score(\n",
    "    y_true=churn_train_np.ravel(),\n",
    "    y_pred=y_pred_train\n",
    ")\n",
    "\n",
    "accuracy_val: float = accuracy_score(\n",
    "    y_true=churn_val_np.ravel(),\n",
    "    y_pred=y_pred_val\n",
    ")\n",
    "\n",
    "accuracy_test: float = accuracy_score(\n",
    "    y_true=churn_test_np.ravel(),\n",
    "    y_pred=y_pred_test\n",
    ")\n",
    "\n",
    "print(\"Best GradientBoostingClassifier model\")\n",
    "print(f\"search period {search_period} seconds\")\n",
    "print(\"----\"*10)\n",
    "print(f\"Accuracy Score train {accuracy_train}\")\n",
    "print(f\"Accuracy Score val {accuracy_val}\")\n",
    "print(f\"Accuracy Score test {accuracy_test}\")"
   ],
   "metadata": {
    "collapsed": false,
    "ExecuteTime": {
     "end_time": "2023-11-25T15:27:07.107497Z",
     "start_time": "2023-11-25T15:27:02.990765Z"
    }
   },
   "id": "5cec00d40eb3efbf"
  },
  {
   "cell_type": "code",
   "execution_count": 38,
   "outputs": [
    {
     "data": {
      "text/plain": "{'learning_rate': 0.2,\n 'max_depth': 7,\n 'min_samples_split': 2,\n 'n_estimators': 200}"
     },
     "metadata": {},
     "output_type": "display_data"
    }
   ],
   "source": [
    "display(best_params)"
   ],
   "metadata": {
    "collapsed": false,
    "ExecuteTime": {
     "end_time": "2023-11-25T16:06:46.168325Z",
     "start_time": "2023-11-25T16:06:46.163473Z"
    }
   },
   "id": "53f69abb3ce993a8"
  },
  {
   "cell_type": "code",
   "execution_count": null,
   "outputs": [],
   "source": [],
   "metadata": {
    "collapsed": false
   },
   "id": "8da5511252df66a9"
  }
 ],
 "metadata": {
  "kernelspec": {
   "display_name": "Python 3",
   "language": "python",
   "name": "python3"
  },
  "language_info": {
   "codemirror_mode": {
    "name": "ipython",
    "version": 2
   },
   "file_extension": ".py",
   "mimetype": "text/x-python",
   "name": "python",
   "nbconvert_exporter": "python",
   "pygments_lexer": "ipython2",
   "version": "2.7.6"
  }
 },
 "nbformat": 4,
 "nbformat_minor": 5
}
