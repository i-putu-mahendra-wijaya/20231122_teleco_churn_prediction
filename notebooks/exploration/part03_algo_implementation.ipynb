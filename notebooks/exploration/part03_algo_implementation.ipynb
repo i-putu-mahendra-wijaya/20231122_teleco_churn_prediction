{
 "cells": [
  {
   "cell_type": "markdown",
   "source": [
    "# Part03 Algorithm Implementation, Model Training, and Performance Measurement"
   ],
   "metadata": {
    "collapsed": false
   },
   "id": "6ca93b2f45fc31e1"
  },
  {
   "cell_type": "code",
   "execution_count": 42,
   "outputs": [],
   "source": [
    "from __future__ import annotations\n",
    "\n",
    "# import modules\n",
    "\n",
    "from typing import List, Dict, Union\n",
    "import time\n",
    "\n",
    "import joblib\n",
    "import pandas as pd\n",
    "import numpy as np\n",
    "import yaml\n",
    "import shap as shp\n",
    "from matplotlib import pyplot as plt\n",
    "\n",
    "from sklearn.decomposition import PCA\n",
    "from sklearn.linear_model import LogisticRegression\n",
    "from sklearn.ensemble import RandomForestClassifier\n",
    "from sklearn.ensemble import GradientBoostingClassifier\n",
    "from sklearn.svm import SVC\n",
    "from sklearn.metrics import confusion_matrix, accuracy_score, f1_score\n",
    "\n",
    "from src.classes.NpData import NpData\n",
    "from src.commons.Utils import impute_scale_and_convert_to_numpy"
   ],
   "metadata": {
    "collapsed": false,
    "ExecuteTime": {
     "end_time": "2023-11-25T15:22:14.413052Z",
     "start_time": "2023-11-25T15:22:14.406711Z"
    }
   },
   "id": "46519d9219b9a9a7"
  },
  {
   "cell_type": "code",
   "execution_count": 24,
   "outputs": [],
   "source": [
    "# read training dataset\n",
    "ohe_train: pd.DataFrame = pd.read_csv(\n",
    "    filepath_or_buffer=\"../../dataset/01_interim/ohe_train.csv\"\n",
    ")\n",
    "\n",
    "churn_train: pd.DataFrame = pd.read_csv(\n",
    "    filepath_or_buffer=\"../../dataset/01_interim/churn_train.csv\"\n",
    ")\n",
    "\n",
    "ohe_val: pd.DataFrame = pd.read_csv(\n",
    "    filepath_or_buffer=\"../../dataset/01_interim/ohe_val.csv\"\n",
    ")\n",
    "\n",
    "churn_val: pd.DataFrame = pd.read_csv(\n",
    "    filepath_or_buffer=\"../../dataset/01_interim/churn_val.csv\"\n",
    ")\n",
    "\n",
    "ohe_test: pd.DataFrame = pd.read_csv(\n",
    "    filepath_or_buffer=\"../../dataset/01_interim/ohe_test.csv\"\n",
    ")\n",
    "\n",
    "churn_test: pd.DataFrame = pd.read_csv(\n",
    "    filepath_or_buffer=\"../../dataset/01_interim/churn_test.csv\"\n",
    ")"
   ],
   "metadata": {
    "collapsed": false,
    "ExecuteTime": {
     "end_time": "2023-11-25T13:59:22.253220Z",
     "start_time": "2023-11-25T13:59:22.165874Z"
    }
   },
   "id": "5deedfbeed32e3b0"
  },
  {
   "cell_type": "code",
   "execution_count": 25,
   "outputs": [],
   "source": [
    "with open(file=\"../../config.yaml\", mode=\"r\") as file_stream: \n",
    "    stream_loader = yaml.load(\n",
    "        stream=file_stream,\n",
    "        Loader=yaml.SafeLoader\n",
    "    )\n",
    "    mean_total_charges: float = stream_loader[\"MEAN_TOTAL_CHARGES\"]"
   ],
   "metadata": {
    "collapsed": false,
    "ExecuteTime": {
     "end_time": "2023-11-25T13:59:22.253517Z",
     "start_time": "2023-11-25T13:59:22.225816Z"
    }
   },
   "id": "d9bcf80b2fe13553"
  },
  {
   "cell_type": "code",
   "execution_count": 26,
   "outputs": [],
   "source": [
    "scaler_folder: str = f\"../../models/scaler\"\n",
    "\n",
    "feature_train_np: np.ndarray\n",
    "churn_train_np: np.ndarray\n",
    "\n",
    "feature_val_np: np.ndarray\n",
    "churn_val_np: np.ndarray\n",
    "\n",
    "feature_test_np: np.ndarray\n",
    "churn_test_np: np.ndarray\n",
    "\n",
    "feature_train_np, churn_train_np = impute_scale_and_convert_to_numpy(\n",
    "    ohe_df=ohe_train,\n",
    "    columns_with_nulls=[\"TotalCharges\"],\n",
    "    impute_val=[mean_total_charges],\n",
    "    scaler_folder=scaler_folder,\n",
    "    churn_df=churn_train\n",
    ")\n",
    "\n",
    "feature_val_np, churn_val_np = impute_scale_and_convert_to_numpy(\n",
    "    ohe_df=ohe_val,\n",
    "    columns_with_nulls=[\"TotalCharges\"],\n",
    "    impute_val=[mean_total_charges],\n",
    "    scaler_folder=scaler_folder,\n",
    "    churn_df=churn_val    \n",
    ")\n",
    "\n",
    "feature_test_np, churn_test_np = impute_scale_and_convert_to_numpy(\n",
    "    ohe_df=ohe_test,\n",
    "    columns_with_nulls=[\"TotalCharges\"],\n",
    "    impute_val=[mean_total_charges],\n",
    "    scaler_folder=scaler_folder,\n",
    "    churn_df=churn_test    \n",
    ")"
   ],
   "metadata": {
    "collapsed": false,
    "ExecuteTime": {
     "end_time": "2023-11-25T13:59:22.425805Z",
     "start_time": "2023-11-25T13:59:22.238998Z"
    }
   },
   "id": "461f90439e7d9f6"
  },
  {
   "cell_type": "markdown",
   "source": [
    "Ok, so we have : \n",
    " (1) imported all necessary modules\n",
    " (2) load train, validation, and test dataset\n",
    " (3) impute, scale, and convert the dataset to numpy\n",
    "\n",
    "Now, we will subject all feature_** to PCA, so that we can get denser representation instead of a sparse matrix"
   ],
   "metadata": {
    "collapsed": false
   },
   "id": "95f96fee7abc9856"
  },
  {
   "cell_type": "code",
   "execution_count": 27,
   "outputs": [],
   "source": [
    "# Load trained PCA\n",
    "pca: PCA = joblib.load(\n",
    "    filename=\"../../models/feature_pca.pkl\",\n",
    ")\n",
    "\n",
    "feature_train_pca: np.ndarray = pca.transform(feature_train_np)\n",
    "feature_val_pca: np.ndarray = pca.transform(feature_val_np)\n",
    "feature_test_pca: np.ndarray = pca.transform(feature_test_np)"
   ],
   "metadata": {
    "collapsed": false,
    "ExecuteTime": {
     "end_time": "2023-11-25T13:59:22.438169Z",
     "start_time": "2023-11-25T13:59:22.429771Z"
    }
   },
   "id": "2a065761385c1ef8"
  },
  {
   "cell_type": "code",
   "execution_count": 28,
   "outputs": [],
   "source": [
    "# initiate candidate models\n",
    "\n",
    "# LogisticRegression is famous for being the simplest model for binary classification task such as churn prediction. \n",
    "# We can use LogisticRegression model as the base whose performance against which to compare other models\n",
    "lr_classifier: LogisticRegression = LogisticRegression()\n",
    "\n",
    "# RandomForestClassifier is a famous ensemble algorithm used for multi-class classification. It can handle binary classification as well\n",
    "# The algorithm is an ensemble algorithm based on tree simple learners\n",
    "# The algorithm make classification by taking a \"voting\" from all the trees trained\n",
    "rf_classifier: RandomForestClassifier = RandomForestClassifier()\n",
    "\n",
    "# GradientBoostingClassifier is another ensemble algorithm used for multi-class classification. \n",
    "# This algorithm too are based on tree simple learners\n",
    "# In the GradientBoosting algorithm, however, the tree are arranged in sequence, whereby each sequence down the line try to rectify the error made upstream simple learner(s)\n",
    "gb_classifier: GradientBoostingClassifier = GradientBoostingClassifier()\n",
    "\n",
    "# Finally, SupportVectorMachine (SVM) classifier (SVC) is another algorithm that can be used for classification task\n",
    "# This algorithm aims to \"project\" the data points to ever higher dimensions until a hyperplane can be found that separate the data points into classes\n",
    "sv_classifier: SVC = SVC()\n",
    "\n",
    "\n",
    "# We start all models with default hyperparameters"
   ],
   "metadata": {
    "collapsed": false,
    "ExecuteTime": {
     "end_time": "2023-11-25T13:59:22.463034Z",
     "start_time": "2023-11-25T13:59:22.446884Z"
    }
   },
   "id": "3f39a627d7f6c07f"
  },
  {
   "cell_type": "code",
   "execution_count": 29,
   "outputs": [],
   "source": [
    "# Combining all these candidate models inside Object \n",
    "class TrainValTestPerformance(object):\n",
    "    \n",
    "    def __init__(\n",
    "            self\n",
    "    ) -> None:\n",
    "        \"\"\"\n",
    "        Class to track how metrics in a model perform in training, validation, and testing\n",
    "        \"\"\"\n",
    "        self.training_score: float = 0.0\n",
    "        self.validation_score: float = 0.0\n",
    "        self.testing_score: float = 0.0\n",
    "    \n",
    "class ModelCandidate(object):\n",
    "    TRAIN: str = \"train\"\n",
    "    VALIDATE: str = \"validate\"\n",
    "    TEST: str = \"test\"\n",
    "    def __init__(\n",
    "            self,\n",
    "            classification_model: Union[LogisticRegression, RandomForestClassifier, GradientBoostingClassifier, SVC],\n",
    "            n_class: int\n",
    "    ) -> None:\n",
    "        \"\"\"\n",
    "        Class to records things related to model performance. \n",
    "        The parameters included currently are\n",
    "        * model complexity, as measured by training time. More complex model usually are longer to train\n",
    "        * accuracy_score\n",
    "        * f1_score\n",
    "        * confusion_matrix\n",
    "        \n",
    "        :param classification_model: \n",
    "        :param n_class: \n",
    "        \"\"\"\n",
    "        self.classification_model: Union[LogisticRegression, RandomForestClassifier, GradientBoostingClassifier, SVC] = classification_model\n",
    "        self.confusion_matrix: np.ndarray = np.empty(shape=(n_class, n_class))\n",
    "        self.training_time: float = 0.0 \n",
    "        self.accuracy_score: TrainValTestPerformance = TrainValTestPerformance()\n",
    "        self.f1_score: TrainValTestPerformance = TrainValTestPerformance()\n",
    "    \n",
    "    \n",
    "    def save_trained_model(\n",
    "            self, \n",
    "            trained_model: Union[LogisticRegression, RandomForestClassifier, GradientBoostingClassifier, SVC]\n",
    "    ) -> None:\n",
    "        self.classification_model = trained_model\n",
    "    \n",
    "    \n",
    "    def log_training_time(\n",
    "            self, \n",
    "            training_time: float\n",
    "    ) -> None:\n",
    "        self.training_time = training_time\n",
    "    \n",
    "    def calculate_accuracy(\n",
    "            self, \n",
    "            y_true: np.ndarray,\n",
    "            y_pred: np.ndarray, \n",
    "            stage: str = \"train\"\n",
    "    ) -> None:\n",
    "        _acc_score: float = accuracy_score(y_true=y_true, y_pred=y_pred)\n",
    "        \n",
    "        if stage == ModelCandidate.TRAIN:\n",
    "            self.accuracy_score.training_score = _acc_score\n",
    "        \n",
    "        if stage == ModelCandidate.VALIDATE:\n",
    "            self.accuracy_score.validation_score = _acc_score\n",
    "        \n",
    "        if stage == ModelCandidate.TEST:\n",
    "            self.accuracy_score.testing_score = _acc_score\n",
    "    \n",
    "    def calculate_confusion_matrix(\n",
    "            self, \n",
    "            y_true: np.ndarray,\n",
    "            y_pred: np.ndarray \n",
    "    ) -> None:\n",
    "        self.confusion_matrix = confusion_matrix(y_true=y_true, y_pred=y_pred)\n",
    "    \n",
    "    def calculate_f1_score(\n",
    "            self, \n",
    "            y_true: np.ndarray,\n",
    "            y_pred: np.ndarray, \n",
    "            stage: str = \"train\"\n",
    "    ) -> None:\n",
    "        _f1_score: float = f1_score(y_true=y_true, y_pred=y_pred)\n",
    "        \n",
    "        if stage == ModelCandidate.TRAIN:\n",
    "            self.f1_score.training_score = _f1_score\n",
    "        \n",
    "        if stage == ModelCandidate.VALIDATE: \n",
    "            self.f1_score.validation_score = _f1_score\n",
    "        \n",
    "        if stage == ModelCandidate.TEST:\n",
    "            self.f1_score.testing_score = _f1_score\n",
    "        \n",
    "\n",
    "classifier_candidates: Dict[str, ModelCandidate] = {\n",
    "    \"lr_classifier\": ModelCandidate(classification_model=lr_classifier, n_class=len(np.unique(churn_train_np))),\n",
    "    \"rf_classifier\": ModelCandidate(classification_model=rf_classifier, n_class=len(np.unique(churn_train_np))),\n",
    "    \"gb_classifier\": ModelCandidate(classification_model=gb_classifier, n_class=len(np.unique(churn_train_np))),\n",
    "    \"sv_classifier\": ModelCandidate(classification_model=sv_classifier, n_class=len(np.unique(churn_train_np)))\n",
    "}\n",
    "\n",
    "for _, each_candidate in classifier_candidates.items():\n",
    "    _tic: float = time.time()\n",
    "    \n",
    "    _classifier_model = each_candidate.classification_model\n",
    "    _classifier_model.fit(\n",
    "        X=feature_train_pca,\n",
    "        y=churn_train_np.ravel()\n",
    "    )\n",
    "    \n",
    "    each_candidate.save_trained_model(trained_model=_classifier_model)\n",
    "    \n",
    "    _toc: float = time.time()\n",
    "    training_time: float = _toc - _tic\n",
    "    each_candidate.log_training_time(training_time=training_time)\n",
    "    \n",
    "    # training performance\n",
    "    y_pred: np.ndarray = _classifier_model.predict(X=feature_train_pca)\n",
    "    each_candidate.calculate_accuracy(\n",
    "        y_true=churn_train_np.ravel(),\n",
    "        y_pred=y_pred, \n",
    "        stage=ModelCandidate.TRAIN\n",
    "    )\n",
    "    \n",
    "    each_candidate.calculate_f1_score(\n",
    "        y_true=churn_train_np.ravel(),\n",
    "        y_pred=y_pred, \n",
    "        stage=ModelCandidate.TRAIN        \n",
    "    )\n",
    "    \n",
    "    each_candidate.calculate_confusion_matrix(\n",
    "        y_true=churn_train_np.ravel(),\n",
    "        y_pred=y_pred        \n",
    "    )\n",
    "    \n",
    "    # validation performance\n",
    "    y_pred: np.ndarray = _classifier_model.predict(X=feature_val_pca)\n",
    "    each_candidate.calculate_accuracy(\n",
    "        y_true=churn_val_np.ravel(),\n",
    "        y_pred=y_pred,\n",
    "        stage=ModelCandidate.VALIDATE\n",
    "    )\n",
    "    \n",
    "    each_candidate.calculate_f1_score(\n",
    "        y_true=churn_val_np.ravel(),\n",
    "        y_pred=y_pred,\n",
    "        stage=ModelCandidate.VALIDATE        \n",
    "    )\n",
    "    \n",
    "    each_candidate.calculate_confusion_matrix(\n",
    "        y_true=churn_val_np.ravel(),\n",
    "        y_pred=y_pred,        \n",
    "    )\n",
    "    \n",
    "    # testing performance\n",
    "    y_pred: np.ndarray = _classifier_model.predict(X=feature_test_pca)\n",
    "    each_candidate.calculate_accuracy(\n",
    "        y_true=churn_test_np.ravel(),\n",
    "        y_pred=y_pred,\n",
    "        stage=ModelCandidate.TEST\n",
    "    )\n",
    "    \n",
    "    each_candidate.calculate_f1_score(\n",
    "        y_true=churn_test_np.ravel(),\n",
    "        y_pred=y_pred,\n",
    "        stage=ModelCandidate.TEST        \n",
    "    )\n",
    "    \n",
    "    each_candidate.calculate_confusion_matrix(\n",
    "        y_true=churn_test_np.ravel(),\n",
    "        y_pred=y_pred,        \n",
    "    )\n",
    "    "
   ],
   "metadata": {
    "collapsed": false,
    "ExecuteTime": {
     "end_time": "2023-11-25T13:59:28.193750Z",
     "start_time": "2023-11-25T13:59:22.482722Z"
    }
   },
   "id": "c38545d5836603b8"
  },
  {
   "cell_type": "code",
   "execution_count": 30,
   "outputs": [
    {
     "name": "stdout",
     "output_type": "stream",
     "text": [
      "lr_classifier model\n",
      "training time 0.009688138961791992 seconds\n",
      "\n",
      "\n",
      "accuracy_training 0.7457912457912458\n",
      "accuracy_validation 0.7420078519349411\n",
      "accuracy_testing 0.7543466068424004\n",
      "\n",
      "\n",
      "f1_score_training 0.6998011928429424\n",
      "f1_score_validation 0.6904441453566622\n",
      "f1_score_testing 0.7040540540540541\n",
      "\n",
      "\n",
      "------------------------------\n",
      "rf_classifier model\n",
      "training time 0.9656319618225098 seconds\n",
      "\n",
      "\n",
      "accuracy_training 0.9979423868312757\n",
      "accuracy_validation 0.8014582164890633\n",
      "accuracy_testing 0.8014582164890633\n",
      "\n",
      "\n",
      "f1_score_training 0.9975517471622524\n",
      "f1_score_validation 0.7801242236024845\n",
      "f1_score_testing 0.7736572890025576\n",
      "\n",
      "\n",
      "------------------------------\n",
      "gb_classifier model\n",
      "training time 0.9214780330657959 seconds\n",
      "\n",
      "\n",
      "accuracy_training 0.7691732136176581\n",
      "accuracy_validation 0.7453729669097028\n",
      "accuracy_testing 0.7560291643297813\n",
      "\n",
      "\n",
      "f1_score_training 0.7289103690685412\n",
      "f1_score_validation 0.6997354497354497\n",
      "f1_score_testing 0.7098065376917945\n",
      "\n",
      "\n",
      "------------------------------\n",
      "sv_classifier model\n",
      "training time 0.924933910369873 seconds\n",
      "\n",
      "\n",
      "accuracy_training 0.744668911335578\n",
      "accuracy_validation 0.7352776219854178\n",
      "accuracy_testing 0.754907459338194\n",
      "\n",
      "\n",
      "f1_score_training 0.7038403124321978\n",
      "f1_score_validation 0.6890645586297759\n",
      "f1_score_testing 0.7115511551155116\n",
      "\n",
      "\n",
      "------------------------------\n"
     ]
    }
   ],
   "source": [
    "for each_name, each_candidate in classifier_candidates.items():\n",
    "    \n",
    "    print(f\"{each_name} model\")\n",
    "    print(f\"training time {each_candidate.training_time} seconds\")\n",
    "    print(\"\\n\")\n",
    "    print(f\"accuracy_training {each_candidate.accuracy_score.training_score}\")\n",
    "    print(f\"accuracy_validation {each_candidate.accuracy_score.validation_score}\")\n",
    "    print(f\"accuracy_testing {each_candidate.accuracy_score.testing_score}\")\n",
    "    print(\"\\n\")\n",
    "    print(f\"f1_score_training {each_candidate.f1_score.training_score}\")\n",
    "    print(f\"f1_score_validation {each_candidate.f1_score.validation_score}\")\n",
    "    print(f\"f1_score_testing {each_candidate.f1_score.testing_score}\")\n",
    "    print(\"\\n\")\n",
    "    print(\"---\"*10)"
   ],
   "metadata": {
    "collapsed": false,
    "ExecuteTime": {
     "end_time": "2023-11-25T13:59:28.203680Z",
     "start_time": "2023-11-25T13:59:28.200122Z"
    }
   },
   "id": "7ebd153d450f01f8"
  },
  {
   "cell_type": "markdown",
   "source": [
    "There are several intersting points to note from this simple experiment\n",
    "\n",
    "1. `Logistic Regression` model, being the simplest models of all, have the shortest training time, and it already offers reasonable accuracy at ~ 0.7 throughout traiining, validation, and testing. Furthermore, comparing `accuracy_score` and `f1_score` across training, validation, and testing stages gives a hint that `Logistic Regression` - despite its simplicity - ca be generalized. That is, the model does not over fit. That said, `Logistic Regression` model have only few hyparparameter that can be tuned - and hence, it may be difficult to fine-tune the model further\n",
    "2. `Random Forest Classifier` model have the best overall accuracy amongst all other models. The training time of `Random Forest Classifier` is about 10x slower than Logistic Regression, meaning it considerably more complex than Logistic Regression. This training time, however, is still relatively modest if compared to  `Support Vector Classifier` model. Comparing the accuracy and f1_score metrics in training, validation, and testing stage, however, reveals that `Random Forest Classifier` grossly over fit, and hence - as it is - will not be as usable if we feed new data to predict classification. `Random Forest Classifier` have many more hyperparameters that can be tuned compared to `Logistic Regression`, which means we may be able to reduce the over fitting problem by appropriately fine-tuning the model\n",
    "3. `Gradient Boosting Classifier` take slightly longer to train compared to `Random Forest Classifier`. This is expected, given that the algorightm is using sequences of weak learners to rectify errors made from earlier weak learners. This longer training time, however, seems to be worth it, because comparing the metrics accuracy and f1_score across training, validation, and testing stages seems to indicate that the model is actually generalizable - and hence, should perform better compared to `Random Forest Classifier` when fed new data for classification task. Furthermore, we have not yet fine tune the model in this step, and as such the performance given is given out-of-the-box from the default settings from sci-kit learn. Hence, `Gradient Boosting Classifier` seems to give us a bright promise to fine tune further.\n",
    "4. Finally, `Support Vactor Classifier` takes the longest time tom train. This is too expected given that the strategy taken with this algorithm is to project the data points to every higher dimension to search a hyperplane that can separate the data into appropriate class. This complexity, however, does not give us extra benefit, as can be seen from the accuracy and f1_score across training, validation, and testing stage. \n",
    "\n",
    "\n",
    "Hence, we will select `Gradient Boosting Classification` algorithm to base our hyperparameter tuning later. "
   ],
   "metadata": {
    "collapsed": false
   },
   "id": "dcaa441e20229276"
  },
  {
   "cell_type": "code",
   "execution_count": 31,
   "outputs": [
    {
     "data": {
      "text/plain": "['../../models/gb_classifier.pkl']"
     },
     "execution_count": 31,
     "metadata": {},
     "output_type": "execute_result"
    }
   ],
   "source": [
    "# Save Gradient Boosting Classifier Algorithm\n",
    "gb_classifier: GradientBoostingClassifier = classifier_candidates[\"gb_classifier\"].classification_model\n",
    "\n",
    "file_name: str = \"../../models/gb_classifier.pkl\"\n",
    "\n",
    "joblib.dump(\n",
    "    value=gb_classifier,\n",
    "    filename=file_name\n",
    ")"
   ],
   "metadata": {
    "collapsed": false,
    "ExecuteTime": {
     "end_time": "2023-11-25T13:59:28.262135Z",
     "start_time": "2023-11-25T13:59:28.205832Z"
    }
   },
   "id": "934690692eb41b07"
  },
  {
   "cell_type": "markdown",
   "source": [
    "Before we move on tuning the Hyperparameter, however, usually it's a good idea to check the explainability of the model. so that we can understand the strength of each features driving the classification. \n",
    "\n",
    "Given that our raw data itself are not uniform, the explainability can give us clue on where to focus our investigation of bias later\n",
    "\n",
    "To investigate the explainability of the model, we will be calculating SHAP value across all the features"
   ],
   "metadata": {
    "collapsed": false
   },
   "id": "f3e816a6cc6a1bf1"
  },
  {
   "cell_type": "code",
   "execution_count": 43,
   "outputs": [
    {
     "name": "stderr",
     "output_type": "stream",
     "text": [
      "PermutationExplainer explainer: 5347it [35:19,  2.51it/s]                          \n"
     ]
    },
    {
     "data": {
      "text/plain": "<Figure size 800x950 with 2 Axes>",
      "image/png": "[encoded data removed]"
     },
     "metadata": {},
     "output_type": "display_data"
    },
    {
     "data": {
      "text/plain": "<Figure size 640x480 with 0 Axes>"
     },
     "metadata": {},
     "output_type": "display_data"
    }
   ],
   "source": [
    "# create masker for shap calculation\n",
    "def my_masker(mask, x):\n",
    "    # in this simple example we just zero out the features we are masking\n",
    "    return (x * mask).reshape(1, len(x))\n",
    "\n",
    "# create function to wrap the entire steps for predicting\n",
    "def make_prediction(\n",
    "        feature_np: np.ndarray\n",
    ") -> None:\n",
    "    \n",
    "    pca: PCA = joblib.load(\n",
    "        filename=\"../../models/feature_pca.pkl\"\n",
    "    )\n",
    "    \n",
    "    feature_pca: np.ndarray = pca.transform(X=feature_np)\n",
    "    \n",
    "    gb_classifier: GradientBoostingClassifier = joblib.load(\n",
    "        filename=\"../../models/gb_classifier.pkl\"\n",
    "    )\n",
    "    \n",
    "    return gb_classifier.predict(X=feature_pca)\n",
    "\n",
    "\n",
    "explainer: shp.Explainer = shp.Explainer(\n",
    "    model=make_prediction,\n",
    "    masker=my_masker\n",
    "    \n",
    ")\n",
    "\n",
    "explainer_test: shp.Explainer = explainer(feature_train_np)\n",
    "shp.summary_plot(explainer_test)\n",
    "\n",
    "plt.savefig(\n",
    "    \"../figures/shap_value_explainer.png\"\n",
    ")\n",
    "\n",
    "    "
   ],
   "metadata": {
    "collapsed": false,
    "ExecuteTime": {
     "end_time": "2023-11-25T15:58:47.259419Z",
     "start_time": "2023-11-25T15:23:26.387053Z"
    }
   },
   "id": "20c2dc382fd79f41"
  },
  {
   "cell_type": "markdown",
   "source": [
    "Of course, the above graph is still difficult to interpret, because we see \"feature 0\" etc, which we couldn't remember. \n",
    "\n",
    "We still need some map to translate the index back to meaningful name"
   ],
   "metadata": {
    "collapsed": false
   },
   "id": "83b9d84f99511404"
  },
  {
   "cell_type": "code",
   "execution_count": 50,
   "outputs": [
    {
     "name": "stdout",
     "output_type": "stream",
     "text": [
      "feature_0 is tenure\n",
      "feature_1 is MonthlyCharges\n",
      "feature_2 is TotalCharges\n",
      "feature_3 is gender_Female\n",
      "feature_4 is gender_Male\n",
      "feature_5 is SeniorCitizen_0\n",
      "feature_6 is SeniorCitizen_1\n",
      "feature_7 is Partner_No\n",
      "feature_8 is Partner_Yes\n",
      "feature_9 is Dependents_No\n",
      "feature_10 is Dependents_Yes\n",
      "feature_11 is PhoneService_No\n",
      "feature_12 is PhoneService_Yes\n",
      "feature_13 is MultipleLines_No\n",
      "feature_14 is MultipleLines_No phone service\n",
      "feature_15 is MultipleLines_Yes\n",
      "feature_16 is InternetService_DSL\n",
      "feature_17 is InternetService_Fiber optic\n",
      "feature_18 is InternetService_No\n",
      "feature_19 is OnlineSecurity_No\n",
      "feature_20 is OnlineSecurity_No internet service\n",
      "feature_21 is OnlineSecurity_Yes\n",
      "feature_22 is OnlineBackup_No\n",
      "feature_23 is OnlineBackup_No internet service\n",
      "feature_24 is OnlineBackup_Yes\n",
      "feature_25 is DeviceProtection_No\n",
      "feature_26 is DeviceProtection_No internet service\n",
      "feature_27 is DeviceProtection_Yes\n",
      "feature_28 is TechSupport_No\n",
      "feature_29 is TechSupport_No internet service\n",
      "feature_30 is TechSupport_Yes\n",
      "feature_31 is StreamingTV_No\n",
      "feature_32 is StreamingTV_No internet service\n",
      "feature_33 is StreamingTV_Yes\n",
      "feature_34 is StreamingMovies_No\n",
      "feature_35 is StreamingMovies_No internet service\n",
      "feature_36 is StreamingMovies_Yes\n",
      "feature_37 is Contract_Month-to-month\n",
      "feature_38 is Contract_One year\n",
      "feature_39 is Contract_Two year\n",
      "feature_40 is PaperlessBilling_No\n",
      "feature_41 is PaperlessBilling_Yes\n",
      "feature_42 is PaymentMethod_Bank transfer (automatic)\n",
      "feature_43 is PaymentMethod_Credit card (automatic)\n",
      "feature_44 is PaymentMethod_Electronic check\n",
      "feature_45 is PaymentMethod_Mailed check\n"
     ]
    }
   ],
   "source": [
    "feature_names: List[str] = ohe_train.columns.to_list()\n",
    "\n",
    "for each_idx, feature_name in enumerate(feature_names):\n",
    "    print(f\"feature_{each_idx} is {feature_name}\")"
   ],
   "metadata": {
    "collapsed": false,
    "ExecuteTime": {
     "end_time": "2023-11-25T16:20:57.668272Z",
     "start_time": "2023-11-25T16:20:57.654033Z"
    }
   },
   "id": "73c504f8289df112"
  },
  {
   "cell_type": "code",
   "execution_count": null,
   "outputs": [],
   "source": [],
   "metadata": {
    "collapsed": false
   },
   "id": "9fc05e4f1d8877f9"
  }
 ],
 "metadata": {
  "kernelspec": {
   "display_name": "Python 3",
   "language": "python",
   "name": "python3"
  },
  "language_info": {
   "codemirror_mode": {
    "name": "ipython",
    "version": 2
   },
   "file_extension": ".py",
   "mimetype": "text/x-python",
   "name": "python",
   "nbconvert_exporter": "python",
   "pygments_lexer": "ipython2",
   "version": "2.7.6"
  }
 },
 "nbformat": 4,
 "nbformat_minor": 5
}
