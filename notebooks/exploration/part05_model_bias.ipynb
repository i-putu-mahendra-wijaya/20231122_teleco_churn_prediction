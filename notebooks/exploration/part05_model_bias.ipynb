{
 "cells": [
  {
   "cell_type": "markdown",
   "source": [
    "# Part05 Model Bias"
   ],
   "metadata": {
    "collapsed": false
   },
   "id": "416134f34882b2e1"
  },
  {
   "cell_type": "code",
   "execution_count": 14,
   "outputs": [],
   "source": [
    "# import modules\n",
    "\n",
    "from typing import Dict, Union, List\n",
    "\n",
    "import pandas as pd\n",
    "import numpy as np\n",
    "import joblib\n",
    "import yaml\n",
    "\n",
    "from sklearn.decomposition import PCA\n",
    "from sklearn.ensemble import GradientBoostingClassifier\n",
    "from sklearn.metrics import accuracy_score\n",
    "\n",
    "from src.commons.Utils import impute_scale_and_convert_to_numpy"
   ],
   "metadata": {
    "collapsed": false,
    "ExecuteTime": {
     "end_time": "2023-11-25T17:27:33.908711Z",
     "start_time": "2023-11-25T17:27:33.887171Z"
    }
   },
   "id": "94972822fa062b0d"
  },
  {
   "cell_type": "code",
   "execution_count": 15,
   "outputs": [],
   "source": [
    "ohe_test: pd.DataFrame\n",
    "churn_test: pd.DataFrame \n",
    "\n",
    "ohe_test = pd.read_csv(\n",
    "    filepath_or_buffer=\"../../dataset/01_interim/ohe_test.csv\"\n",
    ")\n",
    "\n",
    "churn_test = pd.read_csv(\n",
    "    filepath_or_buffer=\"../../dataset/01_interim/churn_test.csv\"\n",
    ")"
   ],
   "metadata": {
    "collapsed": false,
    "ExecuteTime": {
     "end_time": "2023-11-25T17:27:33.936831Z",
     "start_time": "2023-11-25T17:27:33.895358Z"
    }
   },
   "id": "922b10255a44c67"
  },
  {
   "cell_type": "code",
   "execution_count": 16,
   "outputs": [],
   "source": [
    "with open(file=\"../../config.yaml\", mode=\"r\") as file_stream: \n",
    "    yml = yaml.load(\n",
    "        stream=file_stream,\n",
    "        Loader=yaml.SafeLoader\n",
    "    )\n",
    "    mean_total_charges: float = yml[\"MEAN_TOTAL_CHARGES\"]"
   ],
   "metadata": {
    "collapsed": false,
    "ExecuteTime": {
     "end_time": "2023-11-25T17:27:33.937655Z",
     "start_time": "2023-11-25T17:27:33.912302Z"
    }
   },
   "id": "1047dcd4d26f28ad"
  },
  {
   "cell_type": "markdown",
   "source": [
    "Now, let's randomly select 100 customers that has\n",
    "\n",
    "   * TechSupport_No\n",
    "   * OnlineSecurity_No\n",
    "   * Contract_Month-to-Month\n",
    "   * InternetService_Fiber optic\n",
    "   * OnlineBackup_No"
   ],
   "metadata": {
    "collapsed": false
   },
   "id": "db957878d60d5c4a"
  },
  {
   "cell_type": "code",
   "execution_count": 17,
   "outputs": [
    {
     "name": "stdout",
     "output_type": "stream",
     "text": [
      "there are 363 customers found with these characteristics\n",
      "len(base_churn) = 363\n"
     ]
    }
   ],
   "source": [
    "# selecting customers that have high SHAP value indicators\n",
    "condition =   (ohe_test[\"TechSupport_No\"] == 1) \\\n",
    "            & (ohe_test[\"OnlineSecurity_No\"]) \\\n",
    "            & (ohe_test[\"Contract_Month-to-month\"]) \\\n",
    "            & (ohe_test[\"InternetService_Fiber optic\"]) \\\n",
    "            & (ohe_test[\"OnlineBackup_No\"])\n",
    "\n",
    "base_ohe: pd.DataFrame = ohe_test[condition]\n",
    "base_churn: pd.DataFrame = churn_test.loc[churn_test.index.isin(base_ohe.index)]\n",
    "\n",
    "print(f\"there are {len(base_ohe)} customers found with these characteristics\")\n",
    "print(f\"len(base_churn) = {len(base_churn)}\")"
   ],
   "metadata": {
    "collapsed": false,
    "ExecuteTime": {
     "end_time": "2023-11-25T17:27:33.938167Z",
     "start_time": "2023-11-25T17:27:33.921505Z"
    }
   },
   "id": "b7c98a0effa3b394"
  },
  {
   "cell_type": "code",
   "execution_count": 18,
   "outputs": [
    {
     "name": "stdout",
     "output_type": "stream",
     "text": [
      "there are 363 customers complementary of base_ohe\n",
      "len(compared_churn) = 363\n"
     ]
    }
   ],
   "source": [
    "# Now, selecting customers that are NOT in the base_ohe (the complementary set)\n",
    "compared_ohe: pd.DataFrame = ohe_test.loc[~ohe_test.index.isin(base_ohe.index)]\n",
    "\n",
    "_compared_ohe: pd.DataFrame = compared_ohe.sample(n=len(base_ohe))\n",
    "\n",
    "compared_ohe = _compared_ohe.copy()\n",
    "compared_churn: pd.DataFrame = churn_test.loc[churn_test.index.isin(compared_ohe.index)] \n",
    "\n",
    "print(f\"there are {len(compared_ohe)} customers complementary of base_ohe\")\n",
    "print(f\"len(compared_churn) = {len(compared_churn)}\")"
   ],
   "metadata": {
    "collapsed": false,
    "ExecuteTime": {
     "end_time": "2023-11-25T17:27:33.950309Z",
     "start_time": "2023-11-25T17:27:33.937140Z"
    }
   },
   "id": "2db89d948594a01e"
  },
  {
   "cell_type": "code",
   "execution_count": 19,
   "outputs": [
    {
     "name": "stderr",
     "output_type": "stream",
     "text": [
      "/Users/iputumahendrawijaya/PycharmProjects/personal_20231122_telco_churn_prediction/src/commons/Utils.py:188: SettingWithCopyWarning: \n",
      "A value is trying to be set on a copy of a slice from a DataFrame.\n",
      "Try using .loc[row_indexer,col_indexer] = value instead\n",
      "\n",
      "See the caveats in the documentation: https://pandas.pydata.org/pandas-docs/stable/user_guide/indexing.html#returning-a-view-versus-a-copy\n",
      "  ohe_df[[each_cols]] = ohe_df[[each_cols]].fillna(value=im_val, inplace=False)\n",
      "/Users/iputumahendrawijaya/PycharmProjects/personal_20231122_telco_churn_prediction/src/commons/Utils.py:200: SettingWithCopyWarning: \n",
      "A value is trying to be set on a copy of a slice from a DataFrame.\n",
      "Try using .loc[row_indexer,col_indexer] = value instead\n",
      "\n",
      "See the caveats in the documentation: https://pandas.pydata.org/pandas-docs/stable/user_guide/indexing.html#returning-a-view-versus-a-copy\n",
      "  ohe_df[[each_cols]] = ds_scaled\n",
      "/Users/iputumahendrawijaya/PycharmProjects/personal_20231122_telco_churn_prediction/src/commons/Utils.py:200: SettingWithCopyWarning: \n",
      "A value is trying to be set on a copy of a slice from a DataFrame.\n",
      "Try using .loc[row_indexer,col_indexer] = value instead\n",
      "\n",
      "See the caveats in the documentation: https://pandas.pydata.org/pandas-docs/stable/user_guide/indexing.html#returning-a-view-versus-a-copy\n",
      "  ohe_df[[each_cols]] = ds_scaled\n",
      "/Users/iputumahendrawijaya/PycharmProjects/personal_20231122_telco_churn_prediction/src/commons/Utils.py:200: SettingWithCopyWarning: \n",
      "A value is trying to be set on a copy of a slice from a DataFrame.\n",
      "Try using .loc[row_indexer,col_indexer] = value instead\n",
      "\n",
      "See the caveats in the documentation: https://pandas.pydata.org/pandas-docs/stable/user_guide/indexing.html#returning-a-view-versus-a-copy\n",
      "  ohe_df[[each_cols]] = ds_scaled\n"
     ]
    }
   ],
   "source": [
    "scaler_folder: str = \"../../models/scaler\"\n",
    "\n",
    "feature_base_np: np.ndarray\n",
    "churn_base_np: np.ndarray\n",
    "\n",
    "feature_compared_np: np.ndarray\n",
    "churn_compared_np: np.ndarray\n",
    "\n",
    "feature_base_np, churn_base_np = impute_scale_and_convert_to_numpy(\n",
    "    ohe_df=base_ohe,\n",
    "    columns_with_nulls=[\"TotalCharges\"],\n",
    "    impute_val=[mean_total_charges],\n",
    "    scaler_folder=scaler_folder,\n",
    "    churn_df=base_churn\n",
    ")\n",
    "\n",
    "feature_compared_np, churn_compared_np = impute_scale_and_convert_to_numpy(\n",
    "    ohe_df=compared_ohe,\n",
    "    columns_with_nulls=[\"TotalCharges\"],\n",
    "    impute_val=[mean_total_charges],\n",
    "    scaler_folder=scaler_folder,\n",
    "    churn_df=compared_churn    \n",
    ")"
   ],
   "metadata": {
    "collapsed": false,
    "ExecuteTime": {
     "end_time": "2023-11-25T17:31:03.056336Z",
     "start_time": "2023-11-25T17:31:02.952495Z"
    }
   },
   "id": "a3f21d29375cddf3"
  },
  {
   "cell_type": "code",
   "execution_count": 21,
   "outputs": [],
   "source": [
    "# Load trained PCA\n",
    "pca: PCA = joblib.load(\n",
    "    filename=\"../../models/feature_pca.pkl\"\n",
    ")\n",
    "\n",
    "feature_base_pca: np.ndarray = pca.transform(X=feature_base_np)\n",
    "feature_compared_pca: np.ndarray = pca.transform(X=feature_compared_np)"
   ],
   "metadata": {
    "collapsed": false,
    "ExecuteTime": {
     "end_time": "2023-11-25T17:33:14.025643Z",
     "start_time": "2023-11-25T17:33:14.001614Z"
    }
   },
   "id": "4953d5e52dbd850f"
  },
  {
   "cell_type": "code",
   "execution_count": 22,
   "outputs": [],
   "source": [
    "# Load the best GradientBoostingClassifier model\n",
    "\n",
    "gb_classifier: GradientBoostingClassifier = joblib.load(\n",
    "    filename=\"../../models/gb_classifier_best.pkl\"\n",
    ")"
   ],
   "metadata": {
    "collapsed": false,
    "ExecuteTime": {
     "end_time": "2023-11-25T17:34:14.818465Z",
     "start_time": "2023-11-25T17:34:14.790605Z"
    }
   },
   "id": "78ba6dcc972d60"
  },
  {
   "cell_type": "code",
   "execution_count": 23,
   "outputs": [],
   "source": [
    "# Predict base group\n",
    "y_pred_base: np.ndarray = gb_classifier.predict(X=feature_base_pca)\n",
    "base_accuracy_score: float = accuracy_score(\n",
    "    y_true=churn_base_np.ravel(),\n",
    "    y_pred=y_pred_base\n",
    ")"
   ],
   "metadata": {
    "collapsed": false,
    "ExecuteTime": {
     "end_time": "2023-11-25T17:35:26.824519Z",
     "start_time": "2023-11-25T17:35:26.808165Z"
    }
   },
   "id": "925cf0f6efb8bd71"
  },
  {
   "cell_type": "code",
   "execution_count": 24,
   "outputs": [],
   "source": [
    "# Predict the compared group\n",
    "y_pred_compared: np.ndarray = gb_classifier.predict(X=feature_compared_pca)\n",
    "compared_accuracy_score: float = accuracy_score(\n",
    "    y_true=churn_compared_np.ravel(),\n",
    "    y_pred=y_pred_compared\n",
    ")"
   ],
   "metadata": {
    "collapsed": false,
    "ExecuteTime": {
     "end_time": "2023-11-25T17:36:28.721784Z",
     "start_time": "2023-11-25T17:36:28.700831Z"
    }
   },
   "id": "97a3492caa27f5e"
  },
  {
   "cell_type": "code",
   "execution_count": 25,
   "outputs": [
    {
     "name": "stdout",
     "output_type": "stream",
     "text": [
      "base group accuracy score 0.7630853994490359\n",
      "----------------------------------------\n",
      "compared group accuracy score 0.5509641873278237\n"
     ]
    }
   ],
   "source": [
    "print(f\"base group accuracy score {base_accuracy_score}\")\n",
    "print(\"----\"*10)\n",
    "print(f\"compared group accuracy score {compared_accuracy_score}\")"
   ],
   "metadata": {
    "collapsed": false,
    "ExecuteTime": {
     "end_time": "2023-11-25T17:37:14.064949Z",
     "start_time": "2023-11-25T17:37:14.046250Z"
    }
   },
   "id": "88d5971070635125"
  },
  {
   "cell_type": "markdown",
   "source": [
    "As expected, the bias of the model is quite high. \n",
    "\n",
    "In fact, the accuracy of the model for predicting churn for customers that have high SHAP value characteristics is about 1.5x better than those who don't\n",
    "\n",
    "This bias is caused by the imbalanced distribution found in the training dataset itself."
   ],
   "metadata": {
    "collapsed": false
   },
   "id": "6ee09d7e17122fc7"
  }
 ],
 "metadata": {
  "kernelspec": {
   "display_name": "Python 3",
   "language": "python",
   "name": "python3"
  },
  "language_info": {
   "codemirror_mode": {
    "name": "ipython",
    "version": 2
   },
   "file_extension": ".py",
   "mimetype": "text/x-python",
   "name": "python",
   "nbconvert_exporter": "python",
   "pygments_lexer": "ipython2",
   "version": "2.7.6"
  }
 },
 "nbformat": 4,
 "nbformat_minor": 5
}
